{
 "cells": [
  {
   "cell_type": "code",
   "execution_count": 1,
   "id": "0a37200e",
   "metadata": {},
   "outputs": [],
   "source": [
    "import numpy as np\n",
    "import pandas as pd\n",
    "import matplotlib.pyplot as plt\n",
    "import seaborn as sns\n",
    "from sklearn.model_selection import train_test_split\n",
    "from sklearn.linear_model import LogisticRegression\n",
    "from sklearn import metrics"
   ]
  },
  {
   "cell_type": "code",
   "execution_count": 2,
   "id": "f6b4281e",
   "metadata": {},
   "outputs": [],
   "source": [
    "df=pd.read_csv(\"https://raw.githubusercontent.com/Premalatha-success/Supervised-Learning/main/pima-indians-diabetes.csv\")"
   ]
  },
  {
   "cell_type": "code",
   "execution_count": 3,
   "id": "dc74a9cb",
   "metadata": {},
   "outputs": [
    {
     "data": {
      "text/plain": [
       "(768, 9)"
      ]
     },
     "execution_count": 3,
     "metadata": {},
     "output_type": "execute_result"
    }
   ],
   "source": [
    "df.shape"
   ]
  },
  {
   "cell_type": "code",
   "execution_count": 4,
   "id": "961d5693",
   "metadata": {},
   "outputs": [
    {
     "data": {
      "text/plain": [
       "Preg       int64\n",
       "Plas       int64\n",
       "Pres       int64\n",
       "skin       int64\n",
       "test       int64\n",
       "mass     float64\n",
       "pedi     float64\n",
       "age        int64\n",
       "class      int64\n",
       "dtype: object"
      ]
     },
     "execution_count": 4,
     "metadata": {},
     "output_type": "execute_result"
    }
   ],
   "source": [
    "df.dtypes"
   ]
  },
  {
   "cell_type": "code",
   "execution_count": 5,
   "id": "a12f2936",
   "metadata": {},
   "outputs": [
    {
     "name": "stdout",
     "output_type": "stream",
     "text": [
      "<class 'pandas.core.frame.DataFrame'>\n",
      "RangeIndex: 768 entries, 0 to 767\n",
      "Data columns (total 9 columns):\n",
      " #   Column  Non-Null Count  Dtype  \n",
      "---  ------  --------------  -----  \n",
      " 0   Preg    768 non-null    int64  \n",
      " 1   Plas    768 non-null    int64  \n",
      " 2   Pres    768 non-null    int64  \n",
      " 3   skin    768 non-null    int64  \n",
      " 4   test    768 non-null    int64  \n",
      " 5   mass    768 non-null    float64\n",
      " 6   pedi    768 non-null    float64\n",
      " 7   age     768 non-null    int64  \n",
      " 8   class   768 non-null    int64  \n",
      "dtypes: float64(2), int64(7)\n",
      "memory usage: 54.1 KB\n"
     ]
    }
   ],
   "source": [
    "df.info()"
   ]
  },
  {
   "cell_type": "code",
   "execution_count": 6,
   "id": "4eeef595",
   "metadata": {},
   "outputs": [],
   "source": [
    "df[\"mass\"]=df[\"mass\"].replace(to_replace=\"0\",value=np.nan)\n",
    "df[\"mass\"]=df[\"mass\"].astype(float)\n",
    "median=df[\"mass\"].median()\n",
    "df[\"mass\"].replace(np.nan,median,inplace=True)"
   ]
  },
  {
   "cell_type": "code",
   "execution_count": 7,
   "id": "758235bb",
   "metadata": {},
   "outputs": [],
   "source": [
    "df[\"pedi\"]=df[\"pedi\"].replace(to_replace=\"0\",value=np.nan)\n",
    "df[\"pedi\"]=df[\"pedi\"].astype(float)\n",
    "median=df[\"pedi\"].median()\n",
    "df[\"pedi\"].replace(np.nan,median,inplace=True)"
   ]
  },
  {
   "cell_type": "code",
   "execution_count": 8,
   "id": "65eca4c4",
   "metadata": {},
   "outputs": [],
   "source": [
    "df[\"age\"]=df[\"age\"].replace(to_replace=\"0\",value=np.nan)\n",
    "df[\"age\"]=df[\"age\"].astype(float)\n",
    "median=df[\"age\"].median()\n",
    "df[\"age\"].replace(np.nan,median,inplace=True)"
   ]
  },
  {
   "cell_type": "code",
   "execution_count": 9,
   "id": "db755f7e",
   "metadata": {},
   "outputs": [],
   "source": [
    "df[\"Preg\"]=df[\"Preg\"].replace(to_replace=\"0\",value=np.nan)\n",
    "df[\"Preg\"]=df[\"Preg\"].astype(float)"
   ]
  },
  {
   "cell_type": "code",
   "execution_count": 10,
   "id": "2f5d84c9",
   "metadata": {},
   "outputs": [],
   "source": [
    "median=df[\"Preg\"].median()"
   ]
  },
  {
   "cell_type": "code",
   "execution_count": 11,
   "id": "3f0826a0",
   "metadata": {},
   "outputs": [],
   "source": [
    "df[\"Preg\"].replace(np.nan,median,inplace=True)"
   ]
  },
  {
   "cell_type": "code",
   "execution_count": 12,
   "id": "85cd7055",
   "metadata": {},
   "outputs": [],
   "source": [
    "df[\"Plas\"]=df[\"Plas\"].replace(to_replace=\"0\",value=np.nan)\n",
    "df[\"Plas\"]=df[\"Plas\"].astype(float)\n",
    "median=df[\"Plas\"].median()\n",
    "df[\"Plas\"].replace(np.nan,median,inplace=True)"
   ]
  },
  {
   "cell_type": "code",
   "execution_count": 13,
   "id": "907f27ca",
   "metadata": {},
   "outputs": [],
   "source": [
    "df[\"Pres\"]=df[\"Pres\"].replace(to_replace=\"0\",value=np.nan)\n",
    "df[\"Pres\"]=df[\"Pres\"].astype(float)\n",
    "median=df[\"Pres\"].median()\n",
    "df[\"Pres\"].replace(np.nan,median,inplace=True)"
   ]
  },
  {
   "cell_type": "code",
   "execution_count": 14,
   "id": "8d5b6154",
   "metadata": {},
   "outputs": [],
   "source": [
    "df[\"skin\"]=df[\"skin\"].replace(to_replace=\"0\",value=np.nan)\n",
    "df[\"skin\"]=df[\"skin\"].astype(float)\n",
    "median=df[\"skin\"].median()\n",
    "df[\"skin\"].replace(np.nan,median,inplace=True)"
   ]
  },
  {
   "cell_type": "code",
   "execution_count": 15,
   "id": "e640df3f",
   "metadata": {},
   "outputs": [],
   "source": [
    "df[\"test\"]=df[\"test\"].replace(to_replace=\"0\",value=np.nan)\n",
    "df[\"test\"]=df[\"test\"].astype(float)\n",
    "median=df[\"test\"].median()\n",
    "df[\"test\"].replace(np.nan,median,inplace=True)"
   ]
  },
  {
   "cell_type": "code",
   "execution_count": 16,
   "id": "b8eb0dde",
   "metadata": {},
   "outputs": [
    {
     "name": "stdout",
     "output_type": "stream",
     "text": [
      "<class 'pandas.core.frame.DataFrame'>\n",
      "RangeIndex: 768 entries, 0 to 767\n",
      "Data columns (total 9 columns):\n",
      " #   Column  Non-Null Count  Dtype  \n",
      "---  ------  --------------  -----  \n",
      " 0   Preg    768 non-null    float64\n",
      " 1   Plas    768 non-null    float64\n",
      " 2   Pres    768 non-null    float64\n",
      " 3   skin    768 non-null    float64\n",
      " 4   test    768 non-null    float64\n",
      " 5   mass    768 non-null    float64\n",
      " 6   pedi    768 non-null    float64\n",
      " 7   age     768 non-null    float64\n",
      " 8   class   768 non-null    int64  \n",
      "dtypes: float64(8), int64(1)\n",
      "memory usage: 54.1 KB\n"
     ]
    }
   ],
   "source": [
    "df.info()"
   ]
  },
  {
   "cell_type": "code",
   "execution_count": 17,
   "id": "7107903a",
   "metadata": {},
   "outputs": [],
   "source": [
    "def remove_outlier(col):\n",
    "    sorted(col)\n",
    "    Q1,Q3=col.quantile([0.25,0.75])\n",
    "    IQR=Q3-Q1\n",
    "    lower_range=Q1-(1.5*IQR)\n",
    "    upper_range=Q3+(1.5*IQR)\n",
    "    return lower_range,upper_range"
   ]
  },
  {
   "cell_type": "code",
   "execution_count": 18,
   "id": "9e0ac732",
   "metadata": {},
   "outputs": [],
   "source": [
    "lowage,uppage=remove_outlier(df['pedi'])\n",
    "df[\"pedi\"]=np.where(df['pedi']>uppage,uppage,df['pedi'])\n",
    "df[\"pedi\"]=np.where(df['pedi']<lowage,lowage,df['pedi'])"
   ]
  },
  {
   "cell_type": "code",
   "execution_count": 19,
   "id": "208d1cae",
   "metadata": {},
   "outputs": [],
   "source": [
    "lowage,uppage=remove_outlier(df['age'])\n",
    "df[\"age\"]=np.where(df['age']>uppage,uppage,df['age'])\n",
    "df[\"age\"]=np.where(df['age']<lowage,lowage,df['age'])"
   ]
  },
  {
   "cell_type": "code",
   "execution_count": 20,
   "id": "c98b0992",
   "metadata": {},
   "outputs": [],
   "source": [
    "lowage,uppage=remove_outlier(df['Preg'])\n",
    "df[\"Preg\"]=np.where(df['Preg']>uppage,uppage,df['Preg'])\n",
    "df[\"Preg\"]=np.where(df['Preg']<lowage,lowage,df['Preg'])"
   ]
  },
  {
   "cell_type": "code",
   "execution_count": 21,
   "id": "d72798cf",
   "metadata": {},
   "outputs": [],
   "source": [
    "lowage,uppage=remove_outlier(df['Plas'])\n",
    "df[\"Plas\"]=np.where(df['Plas']>uppage,uppage,df['Plas'])\n",
    "df[\"Plas\"]=np.where(df['Plas']<lowage,lowage,df['Plas'])"
   ]
  },
  {
   "cell_type": "code",
   "execution_count": 22,
   "id": "f6a60415",
   "metadata": {},
   "outputs": [],
   "source": [
    "lowage,uppage=remove_outlier(df['Pres'])\n",
    "df[\"Pres\"]=np.where(df['Pres']>uppage,uppage,df['Pres'])\n",
    "df[\"Pres\"]=np.where(df['Pres']<lowage,lowage,df['Pres'])"
   ]
  },
  {
   "cell_type": "code",
   "execution_count": 23,
   "id": "9b48feea",
   "metadata": {},
   "outputs": [],
   "source": [
    "lowage,uppage=remove_outlier(df['skin'])\n",
    "df[\"skin\"]=np.where(df['skin']>uppage,uppage,df['skin'])\n",
    "df[\"skin\"]=np.where(df['skin']<lowage,lowage,df['skin'])"
   ]
  },
  {
   "cell_type": "code",
   "execution_count": 24,
   "id": "3d0d943a",
   "metadata": {},
   "outputs": [],
   "source": [
    "lowage,uppage=remove_outlier(df['test'])\n",
    "df[\"test\"]=np.where(df['test']>uppage,uppage,df['test'])\n",
    "df[\"test\"]=np.where(df['test']<lowage,lowage,df['test'])"
   ]
  },
  {
   "cell_type": "code",
   "execution_count": 25,
   "id": "ac37d2c1",
   "metadata": {},
   "outputs": [],
   "source": [
    "lowage,uppage=remove_outlier(df['mass'])\n",
    "df[\"mass\"]=np.where(df['mass']>uppage,uppage,df['mass'])\n",
    "df[\"mass\"]=np.where(df['mass']<lowage,lowage,df['mass'])"
   ]
  },
  {
   "cell_type": "code",
   "execution_count": 26,
   "id": "13671618",
   "metadata": {},
   "outputs": [
    {
     "name": "stderr",
     "output_type": "stream",
     "text": [
      "C:\\Users\\rupes\\anaconda3\\lib\\site-packages\\seaborn\\_decorators.py:36: FutureWarning: Pass the following variable as a keyword arg: x. From version 0.12, the only valid positional argument will be `data`, and passing other arguments without an explicit keyword will result in an error or misinterpretation.\n",
      "  warnings.warn(\n"
     ]
    },
    {
     "data": {
      "text/plain": [
       "<AxesSubplot:xlabel='mass'>"
      ]
     },
     "execution_count": 26,
     "metadata": {},
     "output_type": "execute_result"
    },
    {
     "data": {
      "image/png": "[encoded data removed]",
      "text/plain": [
       "<Figure size 432x288 with 1 Axes>"
      ]
     },
     "metadata": {
      "needs_background": "light"
     },
     "output_type": "display_data"
    }
   ],
   "source": [
    "sns.boxplot(df[\"mass\"])"
   ]
  },
  {
   "cell_type": "code",
   "execution_count": 27,
   "id": "9c2597b8",
   "metadata": {},
   "outputs": [
    {
     "data": {
      "text/html": [
       "<div>\n",
       "<style scoped>\n",
       "    .dataframe tbody tr th:only-of-type {\n",
       "        vertical-align: middle;\n",
       "    }\n",
       "\n",
       "    .dataframe tbody tr th {\n",
       "        vertical-align: top;\n",
       "    }\n",
       "\n",
       "    .dataframe thead th {\n",
       "        text-align: right;\n",
       "    }\n",
       "</style>\n",
       "<table border=\"1\" class=\"dataframe\">\n",
       "  <thead>\n",
       "    <tr style=\"text-align: right;\">\n",
       "      <th></th>\n",
       "      <th>Preg</th>\n",
       "      <th>Plas</th>\n",
       "      <th>Pres</th>\n",
       "      <th>skin</th>\n",
       "      <th>test</th>\n",
       "      <th>mass</th>\n",
       "      <th>pedi</th>\n",
       "      <th>age</th>\n",
       "      <th>class</th>\n",
       "    </tr>\n",
       "  </thead>\n",
       "  <tbody>\n",
       "    <tr>\n",
       "      <th>count</th>\n",
       "      <td>768.000000</td>\n",
       "      <td>768.000000</td>\n",
       "      <td>768.000000</td>\n",
       "      <td>768.000000</td>\n",
       "      <td>768.000000</td>\n",
       "      <td>768.000000</td>\n",
       "      <td>768.000000</td>\n",
       "      <td>768.000000</td>\n",
       "      <td>768.000000</td>\n",
       "    </tr>\n",
       "    <tr>\n",
       "      <th>mean</th>\n",
       "      <td>3.837240</td>\n",
       "      <td>121.136230</td>\n",
       "      <td>70.684896</td>\n",
       "      <td>20.511719</td>\n",
       "      <td>73.652669</td>\n",
       "      <td>32.125065</td>\n",
       "      <td>0.458914</td>\n",
       "      <td>33.199870</td>\n",
       "      <td>0.348958</td>\n",
       "    </tr>\n",
       "    <tr>\n",
       "      <th>std</th>\n",
       "      <td>3.344157</td>\n",
       "      <td>31.187468</td>\n",
       "      <td>14.197239</td>\n",
       "      <td>15.844744</td>\n",
       "      <td>93.576029</td>\n",
       "      <td>7.049584</td>\n",
       "      <td>0.285596</td>\n",
       "      <td>11.628404</td>\n",
       "      <td>0.476951</td>\n",
       "    </tr>\n",
       "    <tr>\n",
       "      <th>min</th>\n",
       "      <td>0.000000</td>\n",
       "      <td>37.125000</td>\n",
       "      <td>35.000000</td>\n",
       "      <td>0.000000</td>\n",
       "      <td>0.000000</td>\n",
       "      <td>13.350000</td>\n",
       "      <td>0.078000</td>\n",
       "      <td>21.000000</td>\n",
       "      <td>0.000000</td>\n",
       "    </tr>\n",
       "    <tr>\n",
       "      <th>25%</th>\n",
       "      <td>1.000000</td>\n",
       "      <td>99.000000</td>\n",
       "      <td>62.000000</td>\n",
       "      <td>0.000000</td>\n",
       "      <td>0.000000</td>\n",
       "      <td>27.300000</td>\n",
       "      <td>0.243750</td>\n",
       "      <td>24.000000</td>\n",
       "      <td>0.000000</td>\n",
       "    </tr>\n",
       "    <tr>\n",
       "      <th>50%</th>\n",
       "      <td>3.000000</td>\n",
       "      <td>117.000000</td>\n",
       "      <td>72.000000</td>\n",
       "      <td>23.000000</td>\n",
       "      <td>30.500000</td>\n",
       "      <td>32.000000</td>\n",
       "      <td>0.372500</td>\n",
       "      <td>29.000000</td>\n",
       "      <td>0.000000</td>\n",
       "    </tr>\n",
       "    <tr>\n",
       "      <th>75%</th>\n",
       "      <td>6.000000</td>\n",
       "      <td>140.250000</td>\n",
       "      <td>80.000000</td>\n",
       "      <td>32.000000</td>\n",
       "      <td>127.250000</td>\n",
       "      <td>36.600000</td>\n",
       "      <td>0.626250</td>\n",
       "      <td>41.000000</td>\n",
       "      <td>1.000000</td>\n",
       "    </tr>\n",
       "    <tr>\n",
       "      <th>max</th>\n",
       "      <td>13.500000</td>\n",
       "      <td>199.000000</td>\n",
       "      <td>107.000000</td>\n",
       "      <td>80.000000</td>\n",
       "      <td>318.125000</td>\n",
       "      <td>50.550000</td>\n",
       "      <td>1.200000</td>\n",
       "      <td>66.500000</td>\n",
       "      <td>1.000000</td>\n",
       "    </tr>\n",
       "  </tbody>\n",
       "</table>\n",
       "</div>"
      ],
      "text/plain": [
       "             Preg        Plas        Pres        skin        test        mass  \\\n",
       "count  768.000000  768.000000  768.000000  768.000000  768.000000  768.000000   \n",
       "mean     3.837240  121.136230   70.684896   20.511719   73.652669   32.125065   \n",
       "std      3.344157   31.187468   14.197239   15.844744   93.576029    7.049584   \n",
       "min      0.000000   37.125000   35.000000    0.000000    0.000000   13.350000   \n",
       "25%      1.000000   99.000000   62.000000    0.000000    0.000000   27.300000   \n",
       "50%      3.000000  117.000000   72.000000   23.000000   30.500000   32.000000   \n",
       "75%      6.000000  140.250000   80.000000   32.000000  127.250000   36.600000   \n",
       "max     13.500000  199.000000  107.000000   80.000000  318.125000   50.550000   \n",
       "\n",
       "             pedi         age       class  \n",
       "count  768.000000  768.000000  768.000000  \n",
       "mean     0.458914   33.199870    0.348958  \n",
       "std      0.285596   11.628404    0.476951  \n",
       "min      0.078000   21.000000    0.000000  \n",
       "25%      0.243750   24.000000    0.000000  \n",
       "50%      0.372500   29.000000    0.000000  \n",
       "75%      0.626250   41.000000    1.000000  \n",
       "max      1.200000   66.500000    1.000000  "
      ]
     },
     "execution_count": 27,
     "metadata": {},
     "output_type": "execute_result"
    }
   ],
   "source": [
    "df.describe(include=\"all\")"
   ]
  },
  {
   "cell_type": "code",
   "execution_count": 28,
   "id": "1e50cbf5",
   "metadata": {},
   "outputs": [
    {
     "data": {
      "text/html": [
       "<div>\n",
       "<style scoped>\n",
       "    .dataframe tbody tr th:only-of-type {\n",
       "        vertical-align: middle;\n",
       "    }\n",
       "\n",
       "    .dataframe tbody tr th {\n",
       "        vertical-align: top;\n",
       "    }\n",
       "\n",
       "    .dataframe thead th {\n",
       "        text-align: right;\n",
       "    }\n",
       "</style>\n",
       "<table border=\"1\" class=\"dataframe\">\n",
       "  <thead>\n",
       "    <tr style=\"text-align: right;\">\n",
       "      <th></th>\n",
       "      <th>Preg</th>\n",
       "      <th>Plas</th>\n",
       "      <th>Pres</th>\n",
       "      <th>skin</th>\n",
       "      <th>test</th>\n",
       "      <th>mass</th>\n",
       "      <th>pedi</th>\n",
       "      <th>age</th>\n",
       "      <th>class</th>\n",
       "    </tr>\n",
       "  </thead>\n",
       "  <tbody>\n",
       "    <tr>\n",
       "      <th>Preg</th>\n",
       "      <td>1.000000</td>\n",
       "      <td>0.128987</td>\n",
       "      <td>0.184307</td>\n",
       "      <td>-0.084349</td>\n",
       "      <td>-0.077793</td>\n",
       "      <td>0.024681</td>\n",
       "      <td>-0.017398</td>\n",
       "      <td>0.549695</td>\n",
       "      <td>0.220392</td>\n",
       "    </tr>\n",
       "    <tr>\n",
       "      <th>Plas</th>\n",
       "      <td>0.128987</td>\n",
       "      <td>1.000000</td>\n",
       "      <td>0.197865</td>\n",
       "      <td>0.059806</td>\n",
       "      <td>0.315856</td>\n",
       "      <td>0.235542</td>\n",
       "      <td>0.120213</td>\n",
       "      <td>0.269056</td>\n",
       "      <td>0.479158</td>\n",
       "    </tr>\n",
       "    <tr>\n",
       "      <th>Pres</th>\n",
       "      <td>0.184307</td>\n",
       "      <td>0.197865</td>\n",
       "      <td>1.000000</td>\n",
       "      <td>0.152644</td>\n",
       "      <td>0.050080</td>\n",
       "      <td>0.282544</td>\n",
       "      <td>0.038793</td>\n",
       "      <td>0.304208</td>\n",
       "      <td>0.113301</td>\n",
       "    </tr>\n",
       "    <tr>\n",
       "      <th>skin</th>\n",
       "      <td>-0.084349</td>\n",
       "      <td>0.059806</td>\n",
       "      <td>0.152644</td>\n",
       "      <td>1.000000</td>\n",
       "      <td>0.488101</td>\n",
       "      <td>0.401494</td>\n",
       "      <td>0.177920</td>\n",
       "      <td>-0.119170</td>\n",
       "      <td>0.073125</td>\n",
       "    </tr>\n",
       "    <tr>\n",
       "      <th>test</th>\n",
       "      <td>-0.077793</td>\n",
       "      <td>0.315856</td>\n",
       "      <td>0.050080</td>\n",
       "      <td>0.488101</td>\n",
       "      <td>1.000000</td>\n",
       "      <td>0.209665</td>\n",
       "      <td>0.190087</td>\n",
       "      <td>-0.065547</td>\n",
       "      <td>0.124721</td>\n",
       "    </tr>\n",
       "    <tr>\n",
       "      <th>mass</th>\n",
       "      <td>0.024681</td>\n",
       "      <td>0.235542</td>\n",
       "      <td>0.282544</td>\n",
       "      <td>0.401494</td>\n",
       "      <td>0.209665</td>\n",
       "      <td>1.000000</td>\n",
       "      <td>0.141087</td>\n",
       "      <td>0.043375</td>\n",
       "      <td>0.309739</td>\n",
       "    </tr>\n",
       "    <tr>\n",
       "      <th>pedi</th>\n",
       "      <td>-0.017398</td>\n",
       "      <td>0.120213</td>\n",
       "      <td>0.038793</td>\n",
       "      <td>0.177920</td>\n",
       "      <td>0.190087</td>\n",
       "      <td>0.141087</td>\n",
       "      <td>1.000000</td>\n",
       "      <td>0.047289</td>\n",
       "      <td>0.184969</td>\n",
       "    </tr>\n",
       "    <tr>\n",
       "      <th>age</th>\n",
       "      <td>0.549695</td>\n",
       "      <td>0.269056</td>\n",
       "      <td>0.304208</td>\n",
       "      <td>-0.119170</td>\n",
       "      <td>-0.065547</td>\n",
       "      <td>0.043375</td>\n",
       "      <td>0.047289</td>\n",
       "      <td>1.000000</td>\n",
       "      <td>0.242702</td>\n",
       "    </tr>\n",
       "    <tr>\n",
       "      <th>class</th>\n",
       "      <td>0.220392</td>\n",
       "      <td>0.479158</td>\n",
       "      <td>0.113301</td>\n",
       "      <td>0.073125</td>\n",
       "      <td>0.124721</td>\n",
       "      <td>0.309739</td>\n",
       "      <td>0.184969</td>\n",
       "      <td>0.242702</td>\n",
       "      <td>1.000000</td>\n",
       "    </tr>\n",
       "  </tbody>\n",
       "</table>\n",
       "</div>"
      ],
      "text/plain": [
       "           Preg      Plas      Pres      skin      test      mass      pedi  \\\n",
       "Preg   1.000000  0.128987  0.184307 -0.084349 -0.077793  0.024681 -0.017398   \n",
       "Plas   0.128987  1.000000  0.197865  0.059806  0.315856  0.235542  0.120213   \n",
       "Pres   0.184307  0.197865  1.000000  0.152644  0.050080  0.282544  0.038793   \n",
       "skin  -0.084349  0.059806  0.152644  1.000000  0.488101  0.401494  0.177920   \n",
       "test  -0.077793  0.315856  0.050080  0.488101  1.000000  0.209665  0.190087   \n",
       "mass   0.024681  0.235542  0.282544  0.401494  0.209665  1.000000  0.141087   \n",
       "pedi  -0.017398  0.120213  0.038793  0.177920  0.190087  0.141087  1.000000   \n",
       "age    0.549695  0.269056  0.304208 -0.119170 -0.065547  0.043375  0.047289   \n",
       "class  0.220392  0.479158  0.113301  0.073125  0.124721  0.309739  0.184969   \n",
       "\n",
       "            age     class  \n",
       "Preg   0.549695  0.220392  \n",
       "Plas   0.269056  0.479158  \n",
       "Pres   0.304208  0.113301  \n",
       "skin  -0.119170  0.073125  \n",
       "test  -0.065547  0.124721  \n",
       "mass   0.043375  0.309739  \n",
       "pedi   0.047289  0.184969  \n",
       "age    1.000000  0.242702  \n",
       "class  0.242702  1.000000  "
      ]
     },
     "execution_count": 28,
     "metadata": {},
     "output_type": "execute_result"
    }
   ],
   "source": [
    "df.corr()"
   ]
  },
  {
   "cell_type": "code",
   "execution_count": null,
   "id": "de98c50d",
   "metadata": {},
   "outputs": [],
   "source": []
  },
  {
   "cell_type": "code",
   "execution_count": 29,
   "id": "c502e430",
   "metadata": {},
   "outputs": [],
   "source": [
    "x=df.drop(['class'],axis=1)\n",
    "y=df[['class']]"
   ]
  },
  {
   "cell_type": "code",
   "execution_count": 30,
   "id": "73575ab3",
   "metadata": {},
   "outputs": [],
   "source": [
    "x_train,x_test,y_train,y_test=train_test_split(x,y,test_size=0.30,random_state=1)"
   ]
  },
  {
   "cell_type": "code",
   "execution_count": 31,
   "id": "978c11e5",
   "metadata": {},
   "outputs": [],
   "source": [
    "reg=LogisticRegression()"
   ]
  },
  {
   "cell_type": "code",
   "execution_count": 32,
   "id": "1d54b290",
   "metadata": {},
   "outputs": [
    {
     "name": "stderr",
     "output_type": "stream",
     "text": [
      "C:\\Users\\rupes\\anaconda3\\lib\\site-packages\\sklearn\\utils\\validation.py:63: DataConversionWarning: A column-vector y was passed when a 1d array was expected. Please change the shape of y to (n_samples, ), for example using ravel().\n",
      "  return f(*args, **kwargs)\n",
      "C:\\Users\\rupes\\anaconda3\\lib\\site-packages\\sklearn\\linear_model\\_logistic.py:763: ConvergenceWarning: lbfgs failed to converge (status=1):\n",
      "STOP: TOTAL NO. of ITERATIONS REACHED LIMIT.\n",
      "\n",
      "Increase the number of iterations (max_iter) or scale the data as shown in:\n",
      "    https://scikit-learn.org/stable/modules/preprocessing.html\n",
      "Please also refer to the documentation for alternative solver options:\n",
      "    https://scikit-learn.org/stable/modules/linear_model.html#logistic-regression\n",
      "  n_iter_i = _check_optimize_result(\n"
     ]
    },
    {
     "data": {
      "text/plain": [
       "LogisticRegression()"
      ]
     },
     "execution_count": 32,
     "metadata": {},
     "output_type": "execute_result"
    }
   ],
   "source": [
    "reg.fit(x_train,y_train)"
   ]
  },
  {
   "cell_type": "code",
   "execution_count": 33,
   "id": "07f01a9e",
   "metadata": {},
   "outputs": [],
   "source": [
    "predictions=reg.predict(x_test)"
   ]
  },
  {
   "cell_type": "code",
   "execution_count": 34,
   "id": "b49b7c58",
   "metadata": {},
   "outputs": [
    {
     "data": {
      "text/plain": [
       "0.776536312849162"
      ]
     },
     "execution_count": 34,
     "metadata": {},
     "output_type": "execute_result"
    }
   ],
   "source": [
    "reg.score(x_train,y_train)"
   ]
  },
  {
   "cell_type": "code",
   "execution_count": 35,
   "id": "7c40611d",
   "metadata": {},
   "outputs": [
    {
     "data": {
      "text/plain": [
       "0.7922077922077922"
      ]
     },
     "execution_count": 35,
     "metadata": {},
     "output_type": "execute_result"
    }
   ],
   "source": [
    "reg.score(x_test,y_test)"
   ]
  },
  {
   "cell_type": "code",
   "execution_count": 36,
   "id": "68ef9502",
   "metadata": {},
   "outputs": [
    {
     "name": "stdout",
     "output_type": "stream",
     "text": [
      "              precision    recall  f1-score   support\n",
      "\n",
      "           0       0.79      0.91      0.85       146\n",
      "           1       0.79      0.59      0.68        85\n",
      "\n",
      "    accuracy                           0.79       231\n",
      "   macro avg       0.79      0.75      0.76       231\n",
      "weighted avg       0.79      0.79      0.78       231\n",
      "\n"
     ]
    }
   ],
   "source": [
    "print(metrics.classification_report(y_test, predictions))"
   ]
  },
  {
   "cell_type": "code",
   "execution_count": 37,
   "id": "0885a1d7",
   "metadata": {},
   "outputs": [
    {
     "data": {
      "text/plain": [
       "0.7922077922077922"
      ]
     },
     "execution_count": 37,
     "metadata": {},
     "output_type": "execute_result"
    }
   ],
   "source": [
    "from sklearn.metrics import accuracy_score\n",
    "accuracy_score(y_test,predictions)"
   ]
  },
  {
   "cell_type": "code",
   "execution_count": 38,
   "id": "2836fca7",
   "metadata": {},
   "outputs": [
    {
     "data": {
      "text/plain": [
       "array([[133,  13],\n",
       "       [ 35,  50]], dtype=int64)"
      ]
     },
     "execution_count": 38,
     "metadata": {},
     "output_type": "execute_result"
    }
   ],
   "source": [
    "from sklearn.metrics import confusion_matrix\n",
    "confusion_matrix(y_test,predictions)"
   ]
  },
  {
   "cell_type": "code",
   "execution_count": 39,
   "id": "ce79489a",
   "metadata": {},
   "outputs": [
    {
     "data": {
      "text/plain": [
       "<AxesSubplot:>"
      ]
     },
     "execution_count": 39,
     "metadata": {},
     "output_type": "execute_result"
    },
    {
     "data": {
      "image/png": "[encoded data removed]",
      "text/plain": [
       "<Figure size 504x360 with 2 Axes>"
      ]
     },
     "metadata": {
      "needs_background": "light"
     },
     "output_type": "display_data"
    }
   ],
   "source": [
    "cm=metrics.confusion_matrix(y_test, predictions, labels=[1, 0])\n",
    "\n",
    "df_cm = pd.DataFrame(cm, index = [i for i in [\"1\",\"0\"]],\n",
    "                  columns = [i for i in [\"Predict 1\",\"Predict 0\"]])\n",
    "plt.figure(figsize = (7,5))\n",
    "sns.heatmap(df_cm,annot=True,fmt='g')\n"
   ]
  },
  {
   "cell_type": "code",
   "execution_count": 40,
   "id": "da502f8b",
   "metadata": {},
   "outputs": [],
   "source": [
    "from sklearn.neighbors import KNeighborsClassifier\n",
    "from scipy.stats import zscore"
   ]
  },
  {
   "cell_type": "code",
   "execution_count": 41,
   "id": "7c63ada4",
   "metadata": {},
   "outputs": [
    {
     "data": {
      "text/html": [
       "<div>\n",
       "<style scoped>\n",
       "    .dataframe tbody tr th:only-of-type {\n",
       "        vertical-align: middle;\n",
       "    }\n",
       "\n",
       "    .dataframe tbody tr th {\n",
       "        vertical-align: top;\n",
       "    }\n",
       "\n",
       "    .dataframe thead th {\n",
       "        text-align: right;\n",
       "    }\n",
       "</style>\n",
       "<table border=\"1\" class=\"dataframe\">\n",
       "  <thead>\n",
       "    <tr style=\"text-align: right;\">\n",
       "      <th></th>\n",
       "      <th>Preg</th>\n",
       "      <th>Plas</th>\n",
       "      <th>Pres</th>\n",
       "      <th>skin</th>\n",
       "      <th>test</th>\n",
       "      <th>mass</th>\n",
       "      <th>pedi</th>\n",
       "      <th>age</th>\n",
       "    </tr>\n",
       "  </thead>\n",
       "  <tbody>\n",
       "    <tr>\n",
       "      <th>count</th>\n",
       "      <td>7.680000e+02</td>\n",
       "      <td>7.680000e+02</td>\n",
       "      <td>7.680000e+02</td>\n",
       "      <td>7.680000e+02</td>\n",
       "      <td>7.680000e+02</td>\n",
       "      <td>7.680000e+02</td>\n",
       "      <td>7.680000e+02</td>\n",
       "      <td>7.680000e+02</td>\n",
       "    </tr>\n",
       "    <tr>\n",
       "      <th>mean</th>\n",
       "      <td>-1.821460e-17</td>\n",
       "      <td>-9.830100e-18</td>\n",
       "      <td>3.244565e-16</td>\n",
       "      <td>-2.500893e-17</td>\n",
       "      <td>2.891206e-18</td>\n",
       "      <td>1.227678e-16</td>\n",
       "      <td>-2.302845e-16</td>\n",
       "      <td>2.125036e-16</td>\n",
       "    </tr>\n",
       "    <tr>\n",
       "      <th>std</th>\n",
       "      <td>1.000652e+00</td>\n",
       "      <td>1.000652e+00</td>\n",
       "      <td>1.000652e+00</td>\n",
       "      <td>1.000652e+00</td>\n",
       "      <td>1.000652e+00</td>\n",
       "      <td>1.000652e+00</td>\n",
       "      <td>1.000652e+00</td>\n",
       "      <td>1.000652e+00</td>\n",
       "    </tr>\n",
       "    <tr>\n",
       "      <th>min</th>\n",
       "      <td>-1.148194e+00</td>\n",
       "      <td>-2.695505e+00</td>\n",
       "      <td>-2.515148e+00</td>\n",
       "      <td>-1.295388e+00</td>\n",
       "      <td>-7.876020e-01</td>\n",
       "      <td>-2.665023e+00</td>\n",
       "      <td>-1.334619e+00</td>\n",
       "      <td>-1.049828e+00</td>\n",
       "    </tr>\n",
       "    <tr>\n",
       "      <th>25%</th>\n",
       "      <td>-8.489700e-01</td>\n",
       "      <td>-7.102422e-01</td>\n",
       "      <td>-6.121300e-01</td>\n",
       "      <td>-1.295388e+00</td>\n",
       "      <td>-7.876020e-01</td>\n",
       "      <td>-6.848929e-01</td>\n",
       "      <td>-7.538762e-01</td>\n",
       "      <td>-7.916706e-01</td>\n",
       "    </tr>\n",
       "    <tr>\n",
       "      <th>50%</th>\n",
       "      <td>-2.505221e-01</td>\n",
       "      <td>-1.327112e-01</td>\n",
       "      <td>9.269135e-02</td>\n",
       "      <td>1.571438e-01</td>\n",
       "      <td>-4.614514e-01</td>\n",
       "      <td>-1.775234e-02</td>\n",
       "      <td>-3.027713e-01</td>\n",
       "      <td>-3.614087e-01</td>\n",
       "    </tr>\n",
       "    <tr>\n",
       "      <th>75%</th>\n",
       "      <td>6.471497e-01</td>\n",
       "      <td>6.132664e-01</td>\n",
       "      <td>6.565484e-01</td>\n",
       "      <td>7.255256e-01</td>\n",
       "      <td>5.731410e-01</td>\n",
       "      <td>6.351937e-01</td>\n",
       "      <td>5.862995e-01</td>\n",
       "      <td>6.712197e-01</td>\n",
       "    </tr>\n",
       "    <tr>\n",
       "      <th>max</th>\n",
       "      <td>2.891329e+00</td>\n",
       "      <td>2.498263e+00</td>\n",
       "      <td>2.559566e+00</td>\n",
       "      <td>3.756895e+00</td>\n",
       "      <td>2.614256e+00</td>\n",
       "      <td>2.615324e+00</td>\n",
       "      <td>2.596563e+00</td>\n",
       "      <td>2.865555e+00</td>\n",
       "    </tr>\n",
       "  </tbody>\n",
       "</table>\n",
       "</div>"
      ],
      "text/plain": [
       "               Preg          Plas          Pres          skin          test  \\\n",
       "count  7.680000e+02  7.680000e+02  7.680000e+02  7.680000e+02  7.680000e+02   \n",
       "mean  -1.821460e-17 -9.830100e-18  3.244565e-16 -2.500893e-17  2.891206e-18   \n",
       "std    1.000652e+00  1.000652e+00  1.000652e+00  1.000652e+00  1.000652e+00   \n",
       "min   -1.148194e+00 -2.695505e+00 -2.515148e+00 -1.295388e+00 -7.876020e-01   \n",
       "25%   -8.489700e-01 -7.102422e-01 -6.121300e-01 -1.295388e+00 -7.876020e-01   \n",
       "50%   -2.505221e-01 -1.327112e-01  9.269135e-02  1.571438e-01 -4.614514e-01   \n",
       "75%    6.471497e-01  6.132664e-01  6.565484e-01  7.255256e-01  5.731410e-01   \n",
       "max    2.891329e+00  2.498263e+00  2.559566e+00  3.756895e+00  2.614256e+00   \n",
       "\n",
       "               mass          pedi           age  \n",
       "count  7.680000e+02  7.680000e+02  7.680000e+02  \n",
       "mean   1.227678e-16 -2.302845e-16  2.125036e-16  \n",
       "std    1.000652e+00  1.000652e+00  1.000652e+00  \n",
       "min   -2.665023e+00 -1.334619e+00 -1.049828e+00  \n",
       "25%   -6.848929e-01 -7.538762e-01 -7.916706e-01  \n",
       "50%   -1.775234e-02 -3.027713e-01 -3.614087e-01  \n",
       "75%    6.351937e-01  5.862995e-01  6.712197e-01  \n",
       "max    2.615324e+00  2.596563e+00  2.865555e+00  "
      ]
     },
     "execution_count": 41,
     "metadata": {},
     "output_type": "execute_result"
    }
   ],
   "source": [
    "xscaled=x.apply(zscore)\n",
    "xscaled.describe()"
   ]
  },
  {
   "cell_type": "code",
   "execution_count": 42,
   "id": "2576a164",
   "metadata": {},
   "outputs": [],
   "source": [
    "x_train,x_test,y_train,y_test=train_test_split(xscaled,y,test_size=0.30,random_state=1)"
   ]
  },
  {
   "cell_type": "code",
   "execution_count": 43,
   "id": "153de3f9",
   "metadata": {},
   "outputs": [],
   "source": [
    "NNH=KNeighborsClassifier(n_neighbors=9)"
   ]
  },
  {
   "cell_type": "code",
   "execution_count": 44,
   "id": "cd6e3049",
   "metadata": {},
   "outputs": [
    {
     "name": "stderr",
     "output_type": "stream",
     "text": [
      "C:\\Users\\rupes\\anaconda3\\lib\\site-packages\\sklearn\\neighbors\\_classification.py:179: DataConversionWarning: A column-vector y was passed when a 1d array was expected. Please change the shape of y to (n_samples,), for example using ravel().\n",
      "  return self._fit(X, y)\n"
     ]
    },
    {
     "data": {
      "text/plain": [
       "KNeighborsClassifier(n_neighbors=9)"
      ]
     },
     "execution_count": 44,
     "metadata": {},
     "output_type": "execute_result"
    }
   ],
   "source": [
    "NNH.fit(x_train,y_train)"
   ]
  },
  {
   "cell_type": "code",
   "execution_count": 45,
   "id": "9b127899",
   "metadata": {},
   "outputs": [
    {
     "data": {
      "text/plain": [
       "0.8008658008658008"
      ]
     },
     "execution_count": 45,
     "metadata": {},
     "output_type": "execute_result"
    }
   ],
   "source": [
    "predicted_labels=NNH.predict(x_test)\n",
    "NNH.score(x_test,y_test)"
   ]
  },
  {
   "cell_type": "code",
   "execution_count": 46,
   "id": "8a810723",
   "metadata": {},
   "outputs": [
    {
     "data": {
      "text/plain": [
       "0.7802607076350093"
      ]
     },
     "execution_count": 46,
     "metadata": {},
     "output_type": "execute_result"
    }
   ],
   "source": [
    "NNH.score(x_train,y_train)"
   ]
  },
  {
   "cell_type": "code",
   "execution_count": 47,
   "id": "bf77699c",
   "metadata": {},
   "outputs": [],
   "source": [
    "from sklearn.naive_bayes import GaussianNB\n"
   ]
  },
  {
   "cell_type": "code",
   "execution_count": 48,
   "id": "5fd04126",
   "metadata": {},
   "outputs": [],
   "source": [
    "NB=GaussianNB(var_smoothing=1e-19)"
   ]
  },
  {
   "cell_type": "code",
   "execution_count": 49,
   "id": "d85139d9",
   "metadata": {},
   "outputs": [
    {
     "name": "stderr",
     "output_type": "stream",
     "text": [
      "C:\\Users\\rupes\\anaconda3\\lib\\site-packages\\sklearn\\utils\\validation.py:63: DataConversionWarning: A column-vector y was passed when a 1d array was expected. Please change the shape of y to (n_samples, ), for example using ravel().\n",
      "  return f(*args, **kwargs)\n"
     ]
    },
    {
     "data": {
      "text/plain": [
       "GaussianNB(var_smoothing=1e-19)"
      ]
     },
     "execution_count": 49,
     "metadata": {},
     "output_type": "execute_result"
    }
   ],
   "source": [
    "NB.fit(x_train,y_train)"
   ]
  },
  {
   "cell_type": "code",
   "execution_count": 50,
   "id": "1a750b64",
   "metadata": {},
   "outputs": [
    {
     "data": {
      "text/plain": [
       "0.7835497835497836"
      ]
     },
     "execution_count": 50,
     "metadata": {},
     "output_type": "execute_result"
    }
   ],
   "source": [
    "NB.score(x_test,y_test)"
   ]
  },
  {
   "cell_type": "code",
   "execution_count": 51,
   "id": "a21a5376",
   "metadata": {},
   "outputs": [
    {
     "data": {
      "text/plain": [
       "0.7523277467411545"
      ]
     },
     "execution_count": 51,
     "metadata": {},
     "output_type": "execute_result"
    }
   ],
   "source": [
    "NB.score(x_train,y_train)"
   ]
  },
  {
   "cell_type": "code",
   "execution_count": 52,
   "id": "929ceb80",
   "metadata": {},
   "outputs": [],
   "source": [
    "from sklearn.tree import DecisionTreeClassifier"
   ]
  },
  {
   "cell_type": "code",
   "execution_count": 53,
   "id": "43381c94",
   "metadata": {},
   "outputs": [],
   "source": [
    "from sklearn.tree import DecisionTreeRegressor"
   ]
  },
  {
   "cell_type": "code",
   "execution_count": 54,
   "id": "4e8169d8",
   "metadata": {},
   "outputs": [],
   "source": [
    "#instantiating\n",
    "model=DecisionTreeClassifier()"
   ]
  },
  {
   "cell_type": "code",
   "execution_count": 55,
   "id": "9cce23b3",
   "metadata": {},
   "outputs": [
    {
     "data": {
      "text/plain": [
       "DecisionTreeClassifier()"
      ]
     },
     "execution_count": 55,
     "metadata": {},
     "output_type": "execute_result"
    }
   ],
   "source": [
    "model.fit(x_train,y_train)"
   ]
  },
  {
   "cell_type": "code",
   "execution_count": 56,
   "id": "24a54999",
   "metadata": {},
   "outputs": [
    {
     "data": {
      "text/plain": [
       "0.6926406926406926"
      ]
     },
     "execution_count": 56,
     "metadata": {},
     "output_type": "execute_result"
    }
   ],
   "source": [
    "model.score(x_test,y_test)"
   ]
  },
  {
   "cell_type": "code",
   "execution_count": 57,
   "id": "279c90e3",
   "metadata": {},
   "outputs": [
    {
     "data": {
      "text/plain": [
       "1.0"
      ]
     },
     "execution_count": 57,
     "metadata": {},
     "output_type": "execute_result"
    }
   ],
   "source": [
    "model.score(x_train,y_train)"
   ]
  },
  {
   "cell_type": "code",
   "execution_count": 251,
   "id": "aeedd565",
   "metadata": {},
   "outputs": [],
   "source": [
    "model1=DecisionTreeClassifier(max_depth=5,criterion=\"entropy\")"
   ]
  },
  {
   "cell_type": "code",
   "execution_count": 252,
   "id": "e28daff7",
   "metadata": {},
   "outputs": [
    {
     "data": {
      "text/plain": [
       "DecisionTreeClassifier(max_depth=5)"
      ]
     },
     "execution_count": 252,
     "metadata": {},
     "output_type": "execute_result"
    }
   ],
   "source": [
    "model1.fit(x_train,y_train)"
   ]
  },
  {
   "cell_type": "code",
   "execution_count": 253,
   "id": "a7cffc7f",
   "metadata": {},
   "outputs": [
    {
     "data": {
      "text/plain": [
       "0.8305400372439479"
      ]
     },
     "execution_count": 253,
     "metadata": {},
     "output_type": "execute_result"
    }
   ],
   "source": [
    "model1.score(x_train,y_train)"
   ]
  },
  {
   "cell_type": "code",
   "execution_count": 254,
   "id": "b263ef77",
   "metadata": {},
   "outputs": [
    {
     "data": {
      "text/plain": [
       "0.7619047619047619"
      ]
     },
     "execution_count": 254,
     "metadata": {},
     "output_type": "execute_result"
    }
   ],
   "source": [
    "model1.score(x_test,y_test)"
   ]
  },
  {
   "cell_type": "code",
   "execution_count": 255,
   "id": "5b2f1d8b",
   "metadata": {},
   "outputs": [],
   "source": [
    "from sklearn.ensemble import BaggingClassifier"
   ]
  },
  {
   "cell_type": "code",
   "execution_count": 256,
   "id": "0fee5f07",
   "metadata": {},
   "outputs": [],
   "source": [
    "bc=BaggingClassifier(n_estimators=50,base_estimator=model1)"
   ]
  },
  {
   "cell_type": "code",
   "execution_count": 257,
   "id": "08fd1af7",
   "metadata": {},
   "outputs": [
    {
     "name": "stderr",
     "output_type": "stream",
     "text": [
      "C:\\Users\\rupes\\anaconda3\\lib\\site-packages\\sklearn\\utils\\validation.py:63: DataConversionWarning: A column-vector y was passed when a 1d array was expected. Please change the shape of y to (n_samples, ), for example using ravel().\n",
      "  return f(*args, **kwargs)\n"
     ]
    },
    {
     "data": {
      "text/plain": [
       "BaggingClassifier(base_estimator=DecisionTreeClassifier(max_depth=5),\n",
       "                  n_estimators=50)"
      ]
     },
     "execution_count": 257,
     "metadata": {},
     "output_type": "execute_result"
    }
   ],
   "source": [
    "bc.fit(x_train,y_train)"
   ]
  },
  {
   "cell_type": "code",
   "execution_count": 258,
   "id": "33a3b52e",
   "metadata": {},
   "outputs": [
    {
     "data": {
      "text/plain": [
       "0.8715083798882681"
      ]
     },
     "execution_count": 258,
     "metadata": {},
     "output_type": "execute_result"
    }
   ],
   "source": [
    "bc.score(x_train,y_train)"
   ]
  },
  {
   "cell_type": "code",
   "execution_count": 259,
   "id": "ee84752c",
   "metadata": {},
   "outputs": [
    {
     "data": {
      "text/plain": [
       "0.7792207792207793"
      ]
     },
     "execution_count": 259,
     "metadata": {},
     "output_type": "execute_result"
    }
   ],
   "source": [
    "bc.score(x_test,y_test)"
   ]
  },
  {
   "cell_type": "code",
   "execution_count": 260,
   "id": "787c0d7c",
   "metadata": {},
   "outputs": [],
   "source": [
    "from sklearn.ensemble import AdaBoostClassifier"
   ]
  },
  {
   "cell_type": "code",
   "execution_count": 261,
   "id": "3469a710",
   "metadata": {},
   "outputs": [],
   "source": [
    "abc=AdaBoostClassifier(n_estimators=2,base_estimator=model1,learning_rate=0.10)"
   ]
  },
  {
   "cell_type": "code",
   "execution_count": 262,
   "id": "b94537fb",
   "metadata": {},
   "outputs": [
    {
     "name": "stderr",
     "output_type": "stream",
     "text": [
      "C:\\Users\\rupes\\anaconda3\\lib\\site-packages\\sklearn\\utils\\validation.py:63: DataConversionWarning: A column-vector y was passed when a 1d array was expected. Please change the shape of y to (n_samples, ), for example using ravel().\n",
      "  return f(*args, **kwargs)\n"
     ]
    },
    {
     "data": {
      "text/plain": [
       "AdaBoostClassifier(base_estimator=DecisionTreeClassifier(max_depth=5),\n",
       "                   learning_rate=0.1, n_estimators=2)"
      ]
     },
     "execution_count": 262,
     "metadata": {},
     "output_type": "execute_result"
    }
   ],
   "source": [
    "abc.fit(x_train,y_train)"
   ]
  },
  {
   "cell_type": "code",
   "execution_count": 263,
   "id": "98c1d3ee",
   "metadata": {},
   "outputs": [
    {
     "data": {
      "text/plain": [
       "0.8584729981378026"
      ]
     },
     "execution_count": 263,
     "metadata": {},
     "output_type": "execute_result"
    }
   ],
   "source": [
    "abc.score(x_train,y_train)"
   ]
  },
  {
   "cell_type": "code",
   "execution_count": 264,
   "id": "8e073b27",
   "metadata": {},
   "outputs": [
    {
     "data": {
      "text/plain": [
       "0.7619047619047619"
      ]
     },
     "execution_count": 264,
     "metadata": {},
     "output_type": "execute_result"
    }
   ],
   "source": [
    "abc.score(x_test,y_test)"
   ]
  },
  {
   "cell_type": "code",
   "execution_count": 265,
   "id": "91c87422",
   "metadata": {},
   "outputs": [],
   "source": [
    "from sklearn.ensemble import GradientBoostingClassifier"
   ]
  },
  {
   "cell_type": "code",
   "execution_count": 323,
   "id": "4d6adef8",
   "metadata": {},
   "outputs": [],
   "source": [
    "gbc=GradientBoostingClassifier(n_estimators=20,learning_rate=0.10)"
   ]
  },
  {
   "cell_type": "code",
   "execution_count": 324,
   "id": "754bc8ea",
   "metadata": {},
   "outputs": [
    {
     "name": "stderr",
     "output_type": "stream",
     "text": [
      "C:\\Users\\rupes\\anaconda3\\lib\\site-packages\\sklearn\\utils\\validation.py:63: DataConversionWarning: A column-vector y was passed when a 1d array was expected. Please change the shape of y to (n_samples, ), for example using ravel().\n",
      "  return f(*args, **kwargs)\n"
     ]
    },
    {
     "data": {
      "text/plain": [
       "GradientBoostingClassifier(n_estimators=20)"
      ]
     },
     "execution_count": 324,
     "metadata": {},
     "output_type": "execute_result"
    }
   ],
   "source": [
    "gbc.fit(x_train,y_train)"
   ]
  },
  {
   "cell_type": "code",
   "execution_count": 325,
   "id": "63b75165",
   "metadata": {},
   "outputs": [
    {
     "data": {
      "text/plain": [
       "0.8249534450651769"
      ]
     },
     "execution_count": 325,
     "metadata": {},
     "output_type": "execute_result"
    }
   ],
   "source": [
    "gbc.score(x_train,y_train)"
   ]
  },
  {
   "cell_type": "code",
   "execution_count": 326,
   "id": "b16eb702",
   "metadata": {},
   "outputs": [
    {
     "data": {
      "text/plain": [
       "0.7748917748917749"
      ]
     },
     "execution_count": 326,
     "metadata": {},
     "output_type": "execute_result"
    }
   ],
   "source": [
    "gbc.score(x_test,y_test)"
   ]
  },
  {
   "cell_type": "code",
   "execution_count": null,
   "id": "d3cff3e9",
   "metadata": {},
   "outputs": [],
   "source": []
  }
 ],
 "metadata": {
  "kernelspec": {
   "display_name": "Python 3 (ipykernel)",
   "language": "python",
   "name": "python3"
  },
  "language_info": {
   "codemirror_mode": {
    "name": "ipython",
    "version": 3
   },
   "file_extension": ".py",
   "mimetype": "text/x-python",
   "name": "python",
   "nbconvert_exporter": "python",
   "pygments_lexer": "ipython3",
   "version": "3.9.7"
  }
 },
 "nbformat": 4,
 "nbformat_minor": 5
}
