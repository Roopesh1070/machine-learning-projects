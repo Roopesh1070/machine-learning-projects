{
 "cells": [
  {
   "cell_type": "code",
   "execution_count": 1,
   "id": "78d1c8e4",
   "metadata": {},
   "outputs": [],
   "source": [
    "import numpy as np\n",
    "import pandas as pd\n",
    "import matplotlib.pyplot as plt\n",
    "import seaborn as sns\n",
    "from sklearn.model_selection import train_test_split\n",
    "from sklearn.linear_model import LinearRegression\n",
    "from sklearn import metrics"
   ]
  },
  {
   "cell_type": "code",
   "execution_count": 2,
   "id": "75f5c302",
   "metadata": {},
   "outputs": [],
   "source": [
    "df=pd.read_csv(\"https://raw.githubusercontent.com/Premalatha-success/Datasets/main/TaxiFare.csv\")"
   ]
  },
  {
   "cell_type": "code",
   "execution_count": 3,
   "id": "77513555",
   "metadata": {},
   "outputs": [
    {
     "data": {
      "text/plain": [
       "(50000, 8)"
      ]
     },
     "execution_count": 3,
     "metadata": {},
     "output_type": "execute_result"
    }
   ],
   "source": [
    "df.shape"
   ]
  },
  {
   "cell_type": "code",
   "execution_count": 4,
   "id": "2328e308",
   "metadata": {},
   "outputs": [
    {
     "data": {
      "text/html": [
       "<div>\n",
       "<style scoped>\n",
       "    .dataframe tbody tr th:only-of-type {\n",
       "        vertical-align: middle;\n",
       "    }\n",
       "\n",
       "    .dataframe tbody tr th {\n",
       "        vertical-align: top;\n",
       "    }\n",
       "\n",
       "    .dataframe thead th {\n",
       "        text-align: right;\n",
       "    }\n",
       "</style>\n",
       "<table border=\"1\" class=\"dataframe\">\n",
       "  <thead>\n",
       "    <tr style=\"text-align: right;\">\n",
       "      <th></th>\n",
       "      <th>unique_id</th>\n",
       "      <th>amount</th>\n",
       "      <th>date_time_of_pickup</th>\n",
       "      <th>longitude_of_pickup</th>\n",
       "      <th>latitude_of_pickup</th>\n",
       "      <th>longitude_of_dropoff</th>\n",
       "      <th>latitude_of_dropoff</th>\n",
       "      <th>no_of_passenger</th>\n",
       "    </tr>\n",
       "  </thead>\n",
       "  <tbody>\n",
       "    <tr>\n",
       "      <th>0</th>\n",
       "      <td>26:21.0</td>\n",
       "      <td>4.5</td>\n",
       "      <td>2009-06-15 17:26:21 UTC</td>\n",
       "      <td>-73.844311</td>\n",
       "      <td>40.721319</td>\n",
       "      <td>-73.841610</td>\n",
       "      <td>40.712278</td>\n",
       "      <td>1</td>\n",
       "    </tr>\n",
       "    <tr>\n",
       "      <th>1</th>\n",
       "      <td>52:16.0</td>\n",
       "      <td>16.9</td>\n",
       "      <td>2010-01-05 16:52:16 UTC</td>\n",
       "      <td>-74.016048</td>\n",
       "      <td>40.711303</td>\n",
       "      <td>-73.979268</td>\n",
       "      <td>40.782004</td>\n",
       "      <td>1</td>\n",
       "    </tr>\n",
       "    <tr>\n",
       "      <th>2</th>\n",
       "      <td>35:00.0</td>\n",
       "      <td>5.7</td>\n",
       "      <td>2011-08-18 00:35:00 UTC</td>\n",
       "      <td>-73.982738</td>\n",
       "      <td>40.761270</td>\n",
       "      <td>-73.991242</td>\n",
       "      <td>40.750562</td>\n",
       "      <td>2</td>\n",
       "    </tr>\n",
       "    <tr>\n",
       "      <th>3</th>\n",
       "      <td>30:42.0</td>\n",
       "      <td>7.7</td>\n",
       "      <td>2012-04-21 04:30:42 UTC</td>\n",
       "      <td>-73.987130</td>\n",
       "      <td>40.733143</td>\n",
       "      <td>-73.991567</td>\n",
       "      <td>40.758092</td>\n",
       "      <td>1</td>\n",
       "    </tr>\n",
       "    <tr>\n",
       "      <th>4</th>\n",
       "      <td>51:00.0</td>\n",
       "      <td>5.3</td>\n",
       "      <td>2010-03-09 07:51:00 UTC</td>\n",
       "      <td>-73.968095</td>\n",
       "      <td>40.768008</td>\n",
       "      <td>-73.956655</td>\n",
       "      <td>40.783762</td>\n",
       "      <td>1</td>\n",
       "    </tr>\n",
       "  </tbody>\n",
       "</table>\n",
       "</div>"
      ],
      "text/plain": [
       "  unique_id  amount      date_time_of_pickup  longitude_of_pickup  \\\n",
       "0   26:21.0     4.5  2009-06-15 17:26:21 UTC           -73.844311   \n",
       "1   52:16.0    16.9  2010-01-05 16:52:16 UTC           -74.016048   \n",
       "2   35:00.0     5.7  2011-08-18 00:35:00 UTC           -73.982738   \n",
       "3   30:42.0     7.7  2012-04-21 04:30:42 UTC           -73.987130   \n",
       "4   51:00.0     5.3  2010-03-09 07:51:00 UTC           -73.968095   \n",
       "\n",
       "   latitude_of_pickup  longitude_of_dropoff  latitude_of_dropoff  \\\n",
       "0           40.721319            -73.841610            40.712278   \n",
       "1           40.711303            -73.979268            40.782004   \n",
       "2           40.761270            -73.991242            40.750562   \n",
       "3           40.733143            -73.991567            40.758092   \n",
       "4           40.768008            -73.956655            40.783762   \n",
       "\n",
       "   no_of_passenger  \n",
       "0                1  \n",
       "1                1  \n",
       "2                2  \n",
       "3                1  \n",
       "4                1  "
      ]
     },
     "execution_count": 4,
     "metadata": {},
     "output_type": "execute_result"
    }
   ],
   "source": [
    "df.head()"
   ]
  },
  {
   "cell_type": "code",
   "execution_count": 5,
   "id": "e32dd1da",
   "metadata": {},
   "outputs": [],
   "source": [
    "pd1 = df[df[\"amount\"]<2.5].index"
   ]
  },
  {
   "cell_type": "code",
   "execution_count": 6,
   "id": "03f6531f",
   "metadata": {},
   "outputs": [],
   "source": [
    "df.drop(pd1,inplace=True)"
   ]
  },
  {
   "cell_type": "code",
   "execution_count": 7,
   "id": "ccdc4f96",
   "metadata": {},
   "outputs": [],
   "source": [
    "import datetime"
   ]
  },
  {
   "cell_type": "code",
   "execution_count": 8,
   "id": "a4d51787",
   "metadata": {},
   "outputs": [
    {
     "data": {
      "text/plain": [
       "0       2009-06-15 17:26:21+00:00\n",
       "1       2010-01-05 16:52:16+00:00\n",
       "2       2011-08-18 00:35:00+00:00\n",
       "3       2012-04-21 04:30:42+00:00\n",
       "4       2010-03-09 07:51:00+00:00\n",
       "                   ...           \n",
       "49995   2013-06-12 23:25:15+00:00\n",
       "49996   2015-06-22 17:19:18+00:00\n",
       "49997   2011-01-30 04:53:00+00:00\n",
       "49998   2012-11-06 07:09:00+00:00\n",
       "49999   2010-01-13 08:13:14+00:00\n",
       "Name: date_time_of_pickup, Length: 49990, dtype: datetime64[ns, UTC]"
      ]
     },
     "execution_count": 8,
     "metadata": {},
     "output_type": "execute_result"
    }
   ],
   "source": [
    "#changing the time from object to date time\n",
    "pd.to_datetime(df[\"date_time_of_pickup\"])"
   ]
  },
  {
   "cell_type": "code",
   "execution_count": 9,
   "id": "b4329f39",
   "metadata": {},
   "outputs": [
    {
     "data": {
      "text/html": [
       "<div>\n",
       "<style scoped>\n",
       "    .dataframe tbody tr th:only-of-type {\n",
       "        vertical-align: middle;\n",
       "    }\n",
       "\n",
       "    .dataframe tbody tr th {\n",
       "        vertical-align: top;\n",
       "    }\n",
       "\n",
       "    .dataframe thead th {\n",
       "        text-align: right;\n",
       "    }\n",
       "</style>\n",
       "<table border=\"1\" class=\"dataframe\">\n",
       "  <thead>\n",
       "    <tr style=\"text-align: right;\">\n",
       "      <th></th>\n",
       "      <th>unique_id</th>\n",
       "      <th>amount</th>\n",
       "      <th>date_time_of_pickup</th>\n",
       "      <th>longitude_of_pickup</th>\n",
       "      <th>latitude_of_pickup</th>\n",
       "      <th>longitude_of_dropoff</th>\n",
       "      <th>latitude_of_dropoff</th>\n",
       "      <th>no_of_passenger</th>\n",
       "    </tr>\n",
       "  </thead>\n",
       "  <tbody>\n",
       "    <tr>\n",
       "      <th>0</th>\n",
       "      <td>26:21.0</td>\n",
       "      <td>4.5</td>\n",
       "      <td>2009-06-15 17:26:21 UTC</td>\n",
       "      <td>-73.844311</td>\n",
       "      <td>40.721319</td>\n",
       "      <td>-73.841610</td>\n",
       "      <td>40.712278</td>\n",
       "      <td>1</td>\n",
       "    </tr>\n",
       "    <tr>\n",
       "      <th>1</th>\n",
       "      <td>52:16.0</td>\n",
       "      <td>16.9</td>\n",
       "      <td>2010-01-05 16:52:16 UTC</td>\n",
       "      <td>-74.016048</td>\n",
       "      <td>40.711303</td>\n",
       "      <td>-73.979268</td>\n",
       "      <td>40.782004</td>\n",
       "      <td>1</td>\n",
       "    </tr>\n",
       "    <tr>\n",
       "      <th>2</th>\n",
       "      <td>35:00.0</td>\n",
       "      <td>5.7</td>\n",
       "      <td>2011-08-18 00:35:00 UTC</td>\n",
       "      <td>-73.982738</td>\n",
       "      <td>40.761270</td>\n",
       "      <td>-73.991242</td>\n",
       "      <td>40.750562</td>\n",
       "      <td>2</td>\n",
       "    </tr>\n",
       "    <tr>\n",
       "      <th>3</th>\n",
       "      <td>30:42.0</td>\n",
       "      <td>7.7</td>\n",
       "      <td>2012-04-21 04:30:42 UTC</td>\n",
       "      <td>-73.987130</td>\n",
       "      <td>40.733143</td>\n",
       "      <td>-73.991567</td>\n",
       "      <td>40.758092</td>\n",
       "      <td>1</td>\n",
       "    </tr>\n",
       "    <tr>\n",
       "      <th>4</th>\n",
       "      <td>51:00.0</td>\n",
       "      <td>5.3</td>\n",
       "      <td>2010-03-09 07:51:00 UTC</td>\n",
       "      <td>-73.968095</td>\n",
       "      <td>40.768008</td>\n",
       "      <td>-73.956655</td>\n",
       "      <td>40.783762</td>\n",
       "      <td>1</td>\n",
       "    </tr>\n",
       "  </tbody>\n",
       "</table>\n",
       "</div>"
      ],
      "text/plain": [
       "  unique_id  amount      date_time_of_pickup  longitude_of_pickup  \\\n",
       "0   26:21.0     4.5  2009-06-15 17:26:21 UTC           -73.844311   \n",
       "1   52:16.0    16.9  2010-01-05 16:52:16 UTC           -74.016048   \n",
       "2   35:00.0     5.7  2011-08-18 00:35:00 UTC           -73.982738   \n",
       "3   30:42.0     7.7  2012-04-21 04:30:42 UTC           -73.987130   \n",
       "4   51:00.0     5.3  2010-03-09 07:51:00 UTC           -73.968095   \n",
       "\n",
       "   latitude_of_pickup  longitude_of_dropoff  latitude_of_dropoff  \\\n",
       "0           40.721319            -73.841610            40.712278   \n",
       "1           40.711303            -73.979268            40.782004   \n",
       "2           40.761270            -73.991242            40.750562   \n",
       "3           40.733143            -73.991567            40.758092   \n",
       "4           40.768008            -73.956655            40.783762   \n",
       "\n",
       "   no_of_passenger  \n",
       "0                1  \n",
       "1                1  \n",
       "2                2  \n",
       "3                1  \n",
       "4                1  "
      ]
     },
     "execution_count": 9,
     "metadata": {},
     "output_type": "execute_result"
    }
   ],
   "source": [
    "df.head()"
   ]
  },
  {
   "cell_type": "code",
   "execution_count": 10,
   "id": "9537e9a2",
   "metadata": {},
   "outputs": [],
   "source": [
    "df[\"date_time_of_pickup\"]=pd.to_datetime(df[\"date_time_of_pickup\"])-datetime.timedelta(hours=4)"
   ]
  },
  {
   "cell_type": "code",
   "execution_count": 11,
   "id": "a6244c89",
   "metadata": {},
   "outputs": [
    {
     "data": {
      "text/html": [
       "<div>\n",
       "<style scoped>\n",
       "    .dataframe tbody tr th:only-of-type {\n",
       "        vertical-align: middle;\n",
       "    }\n",
       "\n",
       "    .dataframe tbody tr th {\n",
       "        vertical-align: top;\n",
       "    }\n",
       "\n",
       "    .dataframe thead th {\n",
       "        text-align: right;\n",
       "    }\n",
       "</style>\n",
       "<table border=\"1\" class=\"dataframe\">\n",
       "  <thead>\n",
       "    <tr style=\"text-align: right;\">\n",
       "      <th></th>\n",
       "      <th>unique_id</th>\n",
       "      <th>amount</th>\n",
       "      <th>date_time_of_pickup</th>\n",
       "      <th>longitude_of_pickup</th>\n",
       "      <th>latitude_of_pickup</th>\n",
       "      <th>longitude_of_dropoff</th>\n",
       "      <th>latitude_of_dropoff</th>\n",
       "      <th>no_of_passenger</th>\n",
       "    </tr>\n",
       "  </thead>\n",
       "  <tbody>\n",
       "    <tr>\n",
       "      <th>0</th>\n",
       "      <td>26:21.0</td>\n",
       "      <td>4.5</td>\n",
       "      <td>2009-06-15 13:26:21+00:00</td>\n",
       "      <td>-73.844311</td>\n",
       "      <td>40.721319</td>\n",
       "      <td>-73.841610</td>\n",
       "      <td>40.712278</td>\n",
       "      <td>1</td>\n",
       "    </tr>\n",
       "    <tr>\n",
       "      <th>1</th>\n",
       "      <td>52:16.0</td>\n",
       "      <td>16.9</td>\n",
       "      <td>2010-01-05 12:52:16+00:00</td>\n",
       "      <td>-74.016048</td>\n",
       "      <td>40.711303</td>\n",
       "      <td>-73.979268</td>\n",
       "      <td>40.782004</td>\n",
       "      <td>1</td>\n",
       "    </tr>\n",
       "    <tr>\n",
       "      <th>2</th>\n",
       "      <td>35:00.0</td>\n",
       "      <td>5.7</td>\n",
       "      <td>2011-08-17 20:35:00+00:00</td>\n",
       "      <td>-73.982738</td>\n",
       "      <td>40.761270</td>\n",
       "      <td>-73.991242</td>\n",
       "      <td>40.750562</td>\n",
       "      <td>2</td>\n",
       "    </tr>\n",
       "    <tr>\n",
       "      <th>3</th>\n",
       "      <td>30:42.0</td>\n",
       "      <td>7.7</td>\n",
       "      <td>2012-04-21 00:30:42+00:00</td>\n",
       "      <td>-73.987130</td>\n",
       "      <td>40.733143</td>\n",
       "      <td>-73.991567</td>\n",
       "      <td>40.758092</td>\n",
       "      <td>1</td>\n",
       "    </tr>\n",
       "    <tr>\n",
       "      <th>4</th>\n",
       "      <td>51:00.0</td>\n",
       "      <td>5.3</td>\n",
       "      <td>2010-03-09 03:51:00+00:00</td>\n",
       "      <td>-73.968095</td>\n",
       "      <td>40.768008</td>\n",
       "      <td>-73.956655</td>\n",
       "      <td>40.783762</td>\n",
       "      <td>1</td>\n",
       "    </tr>\n",
       "  </tbody>\n",
       "</table>\n",
       "</div>"
      ],
      "text/plain": [
       "  unique_id  amount       date_time_of_pickup  longitude_of_pickup  \\\n",
       "0   26:21.0     4.5 2009-06-15 13:26:21+00:00           -73.844311   \n",
       "1   52:16.0    16.9 2010-01-05 12:52:16+00:00           -74.016048   \n",
       "2   35:00.0     5.7 2011-08-17 20:35:00+00:00           -73.982738   \n",
       "3   30:42.0     7.7 2012-04-21 00:30:42+00:00           -73.987130   \n",
       "4   51:00.0     5.3 2010-03-09 03:51:00+00:00           -73.968095   \n",
       "\n",
       "   latitude_of_pickup  longitude_of_dropoff  latitude_of_dropoff  \\\n",
       "0           40.721319            -73.841610            40.712278   \n",
       "1           40.711303            -73.979268            40.782004   \n",
       "2           40.761270            -73.991242            40.750562   \n",
       "3           40.733143            -73.991567            40.758092   \n",
       "4           40.768008            -73.956655            40.783762   \n",
       "\n",
       "   no_of_passenger  \n",
       "0                1  \n",
       "1                1  \n",
       "2                2  \n",
       "3                1  \n",
       "4                1  "
      ]
     },
     "execution_count": 11,
     "metadata": {},
     "output_type": "execute_result"
    }
   ],
   "source": [
    "df.head()"
   ]
  },
  {
   "cell_type": "code",
   "execution_count": 12,
   "id": "60c3f5f5",
   "metadata": {},
   "outputs": [
    {
     "data": {
      "text/plain": [
       "0         6\n",
       "1         1\n",
       "2         8\n",
       "3         4\n",
       "4         3\n",
       "         ..\n",
       "49995     6\n",
       "49996     6\n",
       "49997     1\n",
       "49998    11\n",
       "49999     1\n",
       "Name: date_time_of_pickup, Length: 49990, dtype: int64"
      ]
     },
     "execution_count": 12,
     "metadata": {},
     "output_type": "execute_result"
    }
   ],
   "source": [
    "df[\"date_time_of_pickup\"].dt.month"
   ]
  },
  {
   "cell_type": "code",
   "execution_count": 13,
   "id": "b9410620",
   "metadata": {},
   "outputs": [],
   "source": [
    "df[\"Year\"]=df[\"date_time_of_pickup\"].dt.year\n",
    "df[\"Month\"]=df[\"date_time_of_pickup\"].dt. month\n",
    "df[\"Day\"]=df[\"date_time_of_pickup\"].dt.day\n",
    "df[\"Hours\"]=df[\"date_time_of_pickup\"].dt.hour\n",
    "df[\"Minutes\"]=df[\"date_time_of_pickup\"].dt.minute\n",
    "\n"
   ]
  },
  {
   "cell_type": "code",
   "execution_count": 14,
   "id": "cd0cd341",
   "metadata": {},
   "outputs": [],
   "source": [
    "df.drop([\"date_time_of_pickup\",\"unique_id\"],axis=1,inplace=True)"
   ]
  },
  {
   "cell_type": "code",
   "execution_count": 15,
   "id": "cf589320",
   "metadata": {},
   "outputs": [
    {
     "data": {
      "text/html": [
       "<div>\n",
       "<style scoped>\n",
       "    .dataframe tbody tr th:only-of-type {\n",
       "        vertical-align: middle;\n",
       "    }\n",
       "\n",
       "    .dataframe tbody tr th {\n",
       "        vertical-align: top;\n",
       "    }\n",
       "\n",
       "    .dataframe thead th {\n",
       "        text-align: right;\n",
       "    }\n",
       "</style>\n",
       "<table border=\"1\" class=\"dataframe\">\n",
       "  <thead>\n",
       "    <tr style=\"text-align: right;\">\n",
       "      <th></th>\n",
       "      <th>amount</th>\n",
       "      <th>longitude_of_pickup</th>\n",
       "      <th>latitude_of_pickup</th>\n",
       "      <th>longitude_of_dropoff</th>\n",
       "      <th>latitude_of_dropoff</th>\n",
       "      <th>no_of_passenger</th>\n",
       "      <th>Year</th>\n",
       "      <th>Month</th>\n",
       "      <th>Day</th>\n",
       "      <th>Hours</th>\n",
       "      <th>Minutes</th>\n",
       "    </tr>\n",
       "  </thead>\n",
       "  <tbody>\n",
       "    <tr>\n",
       "      <th>0</th>\n",
       "      <td>4.5</td>\n",
       "      <td>-73.844311</td>\n",
       "      <td>40.721319</td>\n",
       "      <td>-73.841610</td>\n",
       "      <td>40.712278</td>\n",
       "      <td>1</td>\n",
       "      <td>2009</td>\n",
       "      <td>6</td>\n",
       "      <td>15</td>\n",
       "      <td>13</td>\n",
       "      <td>26</td>\n",
       "    </tr>\n",
       "    <tr>\n",
       "      <th>1</th>\n",
       "      <td>16.9</td>\n",
       "      <td>-74.016048</td>\n",
       "      <td>40.711303</td>\n",
       "      <td>-73.979268</td>\n",
       "      <td>40.782004</td>\n",
       "      <td>1</td>\n",
       "      <td>2010</td>\n",
       "      <td>1</td>\n",
       "      <td>5</td>\n",
       "      <td>12</td>\n",
       "      <td>52</td>\n",
       "    </tr>\n",
       "    <tr>\n",
       "      <th>2</th>\n",
       "      <td>5.7</td>\n",
       "      <td>-73.982738</td>\n",
       "      <td>40.761270</td>\n",
       "      <td>-73.991242</td>\n",
       "      <td>40.750562</td>\n",
       "      <td>2</td>\n",
       "      <td>2011</td>\n",
       "      <td>8</td>\n",
       "      <td>17</td>\n",
       "      <td>20</td>\n",
       "      <td>35</td>\n",
       "    </tr>\n",
       "    <tr>\n",
       "      <th>3</th>\n",
       "      <td>7.7</td>\n",
       "      <td>-73.987130</td>\n",
       "      <td>40.733143</td>\n",
       "      <td>-73.991567</td>\n",
       "      <td>40.758092</td>\n",
       "      <td>1</td>\n",
       "      <td>2012</td>\n",
       "      <td>4</td>\n",
       "      <td>21</td>\n",
       "      <td>0</td>\n",
       "      <td>30</td>\n",
       "    </tr>\n",
       "    <tr>\n",
       "      <th>4</th>\n",
       "      <td>5.3</td>\n",
       "      <td>-73.968095</td>\n",
       "      <td>40.768008</td>\n",
       "      <td>-73.956655</td>\n",
       "      <td>40.783762</td>\n",
       "      <td>1</td>\n",
       "      <td>2010</td>\n",
       "      <td>3</td>\n",
       "      <td>9</td>\n",
       "      <td>3</td>\n",
       "      <td>51</td>\n",
       "    </tr>\n",
       "  </tbody>\n",
       "</table>\n",
       "</div>"
      ],
      "text/plain": [
       "   amount  longitude_of_pickup  latitude_of_pickup  longitude_of_dropoff  \\\n",
       "0     4.5           -73.844311           40.721319            -73.841610   \n",
       "1    16.9           -74.016048           40.711303            -73.979268   \n",
       "2     5.7           -73.982738           40.761270            -73.991242   \n",
       "3     7.7           -73.987130           40.733143            -73.991567   \n",
       "4     5.3           -73.968095           40.768008            -73.956655   \n",
       "\n",
       "   latitude_of_dropoff  no_of_passenger  Year  Month  Day  Hours  Minutes  \n",
       "0            40.712278                1  2009      6   15     13       26  \n",
       "1            40.782004                1  2010      1    5     12       52  \n",
       "2            40.750562                2  2011      8   17     20       35  \n",
       "3            40.758092                1  2012      4   21      0       30  \n",
       "4            40.783762                1  2010      3    9      3       51  "
      ]
     },
     "execution_count": 15,
     "metadata": {},
     "output_type": "execute_result"
    }
   ],
   "source": [
    "df.head()"
   ]
  },
  {
   "cell_type": "code",
   "execution_count": 16,
   "id": "d9719d11",
   "metadata": {},
   "outputs": [
    {
     "data": {
      "text/html": [
       "<div>\n",
       "<style scoped>\n",
       "    .dataframe tbody tr th:only-of-type {\n",
       "        vertical-align: middle;\n",
       "    }\n",
       "\n",
       "    .dataframe tbody tr th {\n",
       "        vertical-align: top;\n",
       "    }\n",
       "\n",
       "    .dataframe thead th {\n",
       "        text-align: right;\n",
       "    }\n",
       "</style>\n",
       "<table border=\"1\" class=\"dataframe\">\n",
       "  <thead>\n",
       "    <tr style=\"text-align: right;\">\n",
       "      <th></th>\n",
       "      <th>count</th>\n",
       "      <th>mean</th>\n",
       "      <th>std</th>\n",
       "      <th>min</th>\n",
       "      <th>1%</th>\n",
       "      <th>2%</th>\n",
       "      <th>3%</th>\n",
       "      <th>4%</th>\n",
       "      <th>5%</th>\n",
       "      <th>10%</th>\n",
       "      <th>25%</th>\n",
       "      <th>40%</th>\n",
       "      <th>50%</th>\n",
       "      <th>75%</th>\n",
       "      <th>90%</th>\n",
       "      <th>95%</th>\n",
       "      <th>96%</th>\n",
       "      <th>98%</th>\n",
       "      <th>99%</th>\n",
       "      <th>max</th>\n",
       "    </tr>\n",
       "  </thead>\n",
       "  <tbody>\n",
       "    <tr>\n",
       "      <th>amount</th>\n",
       "      <td>49990.0</td>\n",
       "      <td>11.366813</td>\n",
       "      <td>9.684697</td>\n",
       "      <td>2.500000</td>\n",
       "      <td>3.300000</td>\n",
       "      <td>3.500000</td>\n",
       "      <td>3.700000</td>\n",
       "      <td>4.000000</td>\n",
       "      <td>4.100000</td>\n",
       "      <td>4.500000</td>\n",
       "      <td>6.000000</td>\n",
       "      <td>7.300000</td>\n",
       "      <td>8.500000</td>\n",
       "      <td>12.500000</td>\n",
       "      <td>20.500000</td>\n",
       "      <td>30.500000</td>\n",
       "      <td>33.566400</td>\n",
       "      <td>46.500000</td>\n",
       "      <td>52.000000</td>\n",
       "      <td>200.000000</td>\n",
       "    </tr>\n",
       "    <tr>\n",
       "      <th>longitude_of_pickup</th>\n",
       "      <td>49990.0</td>\n",
       "      <td>-72.509468</td>\n",
       "      <td>10.394880</td>\n",
       "      <td>-75.423848</td>\n",
       "      <td>-74.014436</td>\n",
       "      <td>-74.010456</td>\n",
       "      <td>-74.008734</td>\n",
       "      <td>-74.007742</td>\n",
       "      <td>-74.006816</td>\n",
       "      <td>-74.002780</td>\n",
       "      <td>-73.992062</td>\n",
       "      <td>-73.985837</td>\n",
       "      <td>-73.981840</td>\n",
       "      <td>-73.967155</td>\n",
       "      <td>-73.950996</td>\n",
       "      <td>-73.871348</td>\n",
       "      <td>-73.862870</td>\n",
       "      <td>-73.137393</td>\n",
       "      <td>0.000000</td>\n",
       "      <td>40.783472</td>\n",
       "    </tr>\n",
       "    <tr>\n",
       "      <th>latitude_of_pickup</th>\n",
       "      <td>49990.0</td>\n",
       "      <td>39.933598</td>\n",
       "      <td>6.225469</td>\n",
       "      <td>-74.006893</td>\n",
       "      <td>0.000000</td>\n",
       "      <td>40.578523</td>\n",
       "      <td>40.645443</td>\n",
       "      <td>40.681107</td>\n",
       "      <td>40.702132</td>\n",
       "      <td>40.717985</td>\n",
       "      <td>40.734883</td>\n",
       "      <td>40.746855</td>\n",
       "      <td>40.752679</td>\n",
       "      <td>40.767360</td>\n",
       "      <td>40.779778</td>\n",
       "      <td>40.787795</td>\n",
       "      <td>40.790614</td>\n",
       "      <td>40.799604</td>\n",
       "      <td>40.807129</td>\n",
       "      <td>401.083332</td>\n",
       "    </tr>\n",
       "    <tr>\n",
       "      <th>longitude_of_dropoff</th>\n",
       "      <td>49990.0</td>\n",
       "      <td>-72.505803</td>\n",
       "      <td>10.403539</td>\n",
       "      <td>-84.654241</td>\n",
       "      <td>-74.015120</td>\n",
       "      <td>-74.011755</td>\n",
       "      <td>-74.009840</td>\n",
       "      <td>-74.008284</td>\n",
       "      <td>-74.007275</td>\n",
       "      <td>-74.002710</td>\n",
       "      <td>-73.991152</td>\n",
       "      <td>-73.984217</td>\n",
       "      <td>-73.980082</td>\n",
       "      <td>-73.963588</td>\n",
       "      <td>-73.944750</td>\n",
       "      <td>-73.873280</td>\n",
       "      <td>-73.864201</td>\n",
       "      <td>-73.434436</td>\n",
       "      <td>0.000000</td>\n",
       "      <td>40.851027</td>\n",
       "    </tr>\n",
       "    <tr>\n",
       "      <th>latitude_of_dropoff</th>\n",
       "      <td>49990.0</td>\n",
       "      <td>39.926903</td>\n",
       "      <td>6.012677</td>\n",
       "      <td>-74.006377</td>\n",
       "      <td>0.000000</td>\n",
       "      <td>40.569767</td>\n",
       "      <td>40.646891</td>\n",
       "      <td>40.672764</td>\n",
       "      <td>40.686076</td>\n",
       "      <td>40.713277</td>\n",
       "      <td>40.734375</td>\n",
       "      <td>40.747609</td>\n",
       "      <td>40.753373</td>\n",
       "      <td>40.768166</td>\n",
       "      <td>40.782897</td>\n",
       "      <td>40.794074</td>\n",
       "      <td>40.798798</td>\n",
       "      <td>40.810249</td>\n",
       "      <td>40.832503</td>\n",
       "      <td>43.415190</td>\n",
       "    </tr>\n",
       "    <tr>\n",
       "      <th>no_of_passenger</th>\n",
       "      <td>49990.0</td>\n",
       "      <td>1.667914</td>\n",
       "      <td>1.289250</td>\n",
       "      <td>0.000000</td>\n",
       "      <td>1.000000</td>\n",
       "      <td>1.000000</td>\n",
       "      <td>1.000000</td>\n",
       "      <td>1.000000</td>\n",
       "      <td>1.000000</td>\n",
       "      <td>1.000000</td>\n",
       "      <td>1.000000</td>\n",
       "      <td>1.000000</td>\n",
       "      <td>1.000000</td>\n",
       "      <td>2.000000</td>\n",
       "      <td>4.000000</td>\n",
       "      <td>5.000000</td>\n",
       "      <td>5.000000</td>\n",
       "      <td>5.000000</td>\n",
       "      <td>6.000000</td>\n",
       "      <td>6.000000</td>\n",
       "    </tr>\n",
       "    <tr>\n",
       "      <th>Year</th>\n",
       "      <td>49990.0</td>\n",
       "      <td>2011.738288</td>\n",
       "      <td>1.862639</td>\n",
       "      <td>2008.000000</td>\n",
       "      <td>2009.000000</td>\n",
       "      <td>2009.000000</td>\n",
       "      <td>2009.000000</td>\n",
       "      <td>2009.000000</td>\n",
       "      <td>2009.000000</td>\n",
       "      <td>2009.000000</td>\n",
       "      <td>2010.000000</td>\n",
       "      <td>2011.000000</td>\n",
       "      <td>2012.000000</td>\n",
       "      <td>2013.000000</td>\n",
       "      <td>2014.000000</td>\n",
       "      <td>2015.000000</td>\n",
       "      <td>2015.000000</td>\n",
       "      <td>2015.000000</td>\n",
       "      <td>2015.000000</td>\n",
       "      <td>2015.000000</td>\n",
       "    </tr>\n",
       "    <tr>\n",
       "      <th>Month</th>\n",
       "      <td>49990.0</td>\n",
       "      <td>6.278036</td>\n",
       "      <td>3.462070</td>\n",
       "      <td>1.000000</td>\n",
       "      <td>1.000000</td>\n",
       "      <td>1.000000</td>\n",
       "      <td>1.000000</td>\n",
       "      <td>1.000000</td>\n",
       "      <td>1.000000</td>\n",
       "      <td>2.000000</td>\n",
       "      <td>3.000000</td>\n",
       "      <td>5.000000</td>\n",
       "      <td>6.000000</td>\n",
       "      <td>9.000000</td>\n",
       "      <td>11.000000</td>\n",
       "      <td>12.000000</td>\n",
       "      <td>12.000000</td>\n",
       "      <td>12.000000</td>\n",
       "      <td>12.000000</td>\n",
       "      <td>12.000000</td>\n",
       "    </tr>\n",
       "    <tr>\n",
       "      <th>Day</th>\n",
       "      <td>49990.0</td>\n",
       "      <td>15.689198</td>\n",
       "      <td>8.660521</td>\n",
       "      <td>1.000000</td>\n",
       "      <td>1.000000</td>\n",
       "      <td>1.000000</td>\n",
       "      <td>2.000000</td>\n",
       "      <td>2.000000</td>\n",
       "      <td>2.000000</td>\n",
       "      <td>4.000000</td>\n",
       "      <td>8.000000</td>\n",
       "      <td>13.000000</td>\n",
       "      <td>16.000000</td>\n",
       "      <td>23.000000</td>\n",
       "      <td>28.000000</td>\n",
       "      <td>29.000000</td>\n",
       "      <td>30.000000</td>\n",
       "      <td>30.000000</td>\n",
       "      <td>31.000000</td>\n",
       "      <td>31.000000</td>\n",
       "    </tr>\n",
       "    <tr>\n",
       "      <th>Hours</th>\n",
       "      <td>49990.0</td>\n",
       "      <td>12.037748</td>\n",
       "      <td>5.848949</td>\n",
       "      <td>0.000000</td>\n",
       "      <td>0.000000</td>\n",
       "      <td>1.000000</td>\n",
       "      <td>2.000000</td>\n",
       "      <td>2.000000</td>\n",
       "      <td>3.000000</td>\n",
       "      <td>4.000000</td>\n",
       "      <td>7.000000</td>\n",
       "      <td>10.000000</td>\n",
       "      <td>12.000000</td>\n",
       "      <td>17.000000</td>\n",
       "      <td>20.000000</td>\n",
       "      <td>21.000000</td>\n",
       "      <td>21.000000</td>\n",
       "      <td>22.000000</td>\n",
       "      <td>23.000000</td>\n",
       "      <td>23.000000</td>\n",
       "    </tr>\n",
       "    <tr>\n",
       "      <th>Minutes</th>\n",
       "      <td>49990.0</td>\n",
       "      <td>29.665113</td>\n",
       "      <td>17.307275</td>\n",
       "      <td>0.000000</td>\n",
       "      <td>0.000000</td>\n",
       "      <td>1.000000</td>\n",
       "      <td>1.000000</td>\n",
       "      <td>2.000000</td>\n",
       "      <td>3.000000</td>\n",
       "      <td>6.000000</td>\n",
       "      <td>15.000000</td>\n",
       "      <td>24.000000</td>\n",
       "      <td>30.000000</td>\n",
       "      <td>45.000000</td>\n",
       "      <td>54.000000</td>\n",
       "      <td>56.000000</td>\n",
       "      <td>57.000000</td>\n",
       "      <td>58.000000</td>\n",
       "      <td>59.000000</td>\n",
       "      <td>59.000000</td>\n",
       "    </tr>\n",
       "  </tbody>\n",
       "</table>\n",
       "</div>"
      ],
      "text/plain": [
       "                        count         mean        std          min  \\\n",
       "amount                49990.0    11.366813   9.684697     2.500000   \n",
       "longitude_of_pickup   49990.0   -72.509468  10.394880   -75.423848   \n",
       "latitude_of_pickup    49990.0    39.933598   6.225469   -74.006893   \n",
       "longitude_of_dropoff  49990.0   -72.505803  10.403539   -84.654241   \n",
       "latitude_of_dropoff   49990.0    39.926903   6.012677   -74.006377   \n",
       "no_of_passenger       49990.0     1.667914   1.289250     0.000000   \n",
       "Year                  49990.0  2011.738288   1.862639  2008.000000   \n",
       "Month                 49990.0     6.278036   3.462070     1.000000   \n",
       "Day                   49990.0    15.689198   8.660521     1.000000   \n",
       "Hours                 49990.0    12.037748   5.848949     0.000000   \n",
       "Minutes               49990.0    29.665113  17.307275     0.000000   \n",
       "\n",
       "                               1%           2%           3%           4%  \\\n",
       "amount                   3.300000     3.500000     3.700000     4.000000   \n",
       "longitude_of_pickup    -74.014436   -74.010456   -74.008734   -74.007742   \n",
       "latitude_of_pickup       0.000000    40.578523    40.645443    40.681107   \n",
       "longitude_of_dropoff   -74.015120   -74.011755   -74.009840   -74.008284   \n",
       "latitude_of_dropoff      0.000000    40.569767    40.646891    40.672764   \n",
       "no_of_passenger          1.000000     1.000000     1.000000     1.000000   \n",
       "Year                  2009.000000  2009.000000  2009.000000  2009.000000   \n",
       "Month                    1.000000     1.000000     1.000000     1.000000   \n",
       "Day                      1.000000     1.000000     2.000000     2.000000   \n",
       "Hours                    0.000000     1.000000     2.000000     2.000000   \n",
       "Minutes                  0.000000     1.000000     1.000000     2.000000   \n",
       "\n",
       "                               5%          10%          25%          40%  \\\n",
       "amount                   4.100000     4.500000     6.000000     7.300000   \n",
       "longitude_of_pickup    -74.006816   -74.002780   -73.992062   -73.985837   \n",
       "latitude_of_pickup      40.702132    40.717985    40.734883    40.746855   \n",
       "longitude_of_dropoff   -74.007275   -74.002710   -73.991152   -73.984217   \n",
       "latitude_of_dropoff     40.686076    40.713277    40.734375    40.747609   \n",
       "no_of_passenger          1.000000     1.000000     1.000000     1.000000   \n",
       "Year                  2009.000000  2009.000000  2010.000000  2011.000000   \n",
       "Month                    1.000000     2.000000     3.000000     5.000000   \n",
       "Day                      2.000000     4.000000     8.000000    13.000000   \n",
       "Hours                    3.000000     4.000000     7.000000    10.000000   \n",
       "Minutes                  3.000000     6.000000    15.000000    24.000000   \n",
       "\n",
       "                              50%          75%          90%          95%  \\\n",
       "amount                   8.500000    12.500000    20.500000    30.500000   \n",
       "longitude_of_pickup    -73.981840   -73.967155   -73.950996   -73.871348   \n",
       "latitude_of_pickup      40.752679    40.767360    40.779778    40.787795   \n",
       "longitude_of_dropoff   -73.980082   -73.963588   -73.944750   -73.873280   \n",
       "latitude_of_dropoff     40.753373    40.768166    40.782897    40.794074   \n",
       "no_of_passenger          1.000000     2.000000     4.000000     5.000000   \n",
       "Year                  2012.000000  2013.000000  2014.000000  2015.000000   \n",
       "Month                    6.000000     9.000000    11.000000    12.000000   \n",
       "Day                     16.000000    23.000000    28.000000    29.000000   \n",
       "Hours                   12.000000    17.000000    20.000000    21.000000   \n",
       "Minutes                 30.000000    45.000000    54.000000    56.000000   \n",
       "\n",
       "                              96%          98%          99%          max  \n",
       "amount                  33.566400    46.500000    52.000000   200.000000  \n",
       "longitude_of_pickup    -73.862870   -73.137393     0.000000    40.783472  \n",
       "latitude_of_pickup      40.790614    40.799604    40.807129   401.083332  \n",
       "longitude_of_dropoff   -73.864201   -73.434436     0.000000    40.851027  \n",
       "latitude_of_dropoff     40.798798    40.810249    40.832503    43.415190  \n",
       "no_of_passenger          5.000000     5.000000     6.000000     6.000000  \n",
       "Year                  2015.000000  2015.000000  2015.000000  2015.000000  \n",
       "Month                   12.000000    12.000000    12.000000    12.000000  \n",
       "Day                     30.000000    30.000000    31.000000    31.000000  \n",
       "Hours                   21.000000    22.000000    23.000000    23.000000  \n",
       "Minutes                 57.000000    58.000000    59.000000    59.000000  "
      ]
     },
     "execution_count": 16,
     "metadata": {},
     "output_type": "execute_result"
    }
   ],
   "source": [
    "#it describes all the percentages\n",
    "df.describe(percentiles = [0.01,.02,.03,.04,.05,.1,.25,.4,.5,.75,.9,.95,.96,.98,.99]).T"
   ]
  },
  {
   "cell_type": "code",
   "execution_count": 17,
   "id": "92d4beed",
   "metadata": {},
   "outputs": [],
   "source": [
    "df[\"X1\"] = df[\"latitude_of_pickup\"]\n",
    "df[\"X2\"] = df[\"latitude_of_dropoff\"]\n",
    "df[\"Y1\"] = df[\"longitude_of_pickup\"]\n",
    "df[\"Y2\"] = df[\"longitude_of_dropoff\"]"
   ]
  },
  {
   "cell_type": "code",
   "execution_count": 18,
   "id": "c3fb56d0",
   "metadata": {},
   "outputs": [],
   "source": [
    "#euclidean distance\n",
    "df[\"Distance\"] = np.sqrt((np.square(df[\"X1\"]-df[\"X2\"]))+(np.square(df[\"Y1\"]-df[\"Y2\"])))\n"
   ]
  },
  {
   "cell_type": "code",
   "execution_count": 19,
   "id": "900d53f4",
   "metadata": {},
   "outputs": [],
   "source": [
    "df.drop([\"longitude_of_pickup\",\"latitude_of_pickup\",\"longitude_of_dropoff\",\"latitude_of_dropoff\"],axis=1,inplace=True)"
   ]
  },
  {
   "cell_type": "code",
   "execution_count": 20,
   "id": "1be6246e",
   "metadata": {},
   "outputs": [],
   "source": [
    "def remove_outlier(col):\n",
    "    sorted(col)\n",
    "    Q1,Q3=col.quantile([0.25,0.75])\n",
    "    IQR=Q3-Q1\n",
    "    lower_range=Q1-(1.5*IQR)\n",
    "    upper_range=Q3+(1.5*IQR)\n",
    "    return lower_range,upper_range"
   ]
  },
  {
   "cell_type": "code",
   "execution_count": 61,
   "id": "9294f8aa",
   "metadata": {},
   "outputs": [],
   "source": [
    "low,upp=remove_outlier(df['amount'])\n",
    "df[\"amount\"]=np.where(df['amount']>upp,upp,df['amount'])\n",
    "df[\"amount\"]=np.where(df['amount']<low,low,df['amount'])"
   ]
  },
  {
   "cell_type": "code",
   "execution_count": 62,
   "id": "0d1bc93d",
   "metadata": {},
   "outputs": [],
   "source": [
    "low,upp=remove_outlier(df['Distance'])\n",
    "df[\"Distance\"]=np.where(df['Distance']>upp,upp,df['Distance'])\n",
    "df[\"Distance\"]=np.where(df['Distance']<low,low,df['Distance'])"
   ]
  },
  {
   "cell_type": "code",
   "execution_count": 63,
   "id": "cfea593a",
   "metadata": {},
   "outputs": [],
   "source": [
    "low,upp=remove_outlier(df['no_of_passenger'])\n",
    "df[\"no_of_passenger\"]=np.where(df['no_of_passenger']>upp,upp,df['no_of_passenger'])\n",
    "df[\"no_of_passenger\"]=np.where(df['no_of_passenger']<low,low,df['no_of_passenger'])"
   ]
  },
  {
   "cell_type": "code",
   "execution_count": 64,
   "id": "e3cfc4bf",
   "metadata": {},
   "outputs": [
    {
     "data": {
      "text/html": [
       "<div>\n",
       "<style scoped>\n",
       "    .dataframe tbody tr th:only-of-type {\n",
       "        vertical-align: middle;\n",
       "    }\n",
       "\n",
       "    .dataframe tbody tr th {\n",
       "        vertical-align: top;\n",
       "    }\n",
       "\n",
       "    .dataframe thead th {\n",
       "        text-align: right;\n",
       "    }\n",
       "</style>\n",
       "<table border=\"1\" class=\"dataframe\">\n",
       "  <thead>\n",
       "    <tr style=\"text-align: right;\">\n",
       "      <th></th>\n",
       "      <th>amount</th>\n",
       "      <th>no_of_passenger</th>\n",
       "      <th>Year</th>\n",
       "      <th>Month</th>\n",
       "      <th>Day</th>\n",
       "      <th>Hours</th>\n",
       "      <th>Minutes</th>\n",
       "      <th>Distance</th>\n",
       "    </tr>\n",
       "  </thead>\n",
       "  <tbody>\n",
       "    <tr>\n",
       "      <th>0</th>\n",
       "      <td>1.0</td>\n",
       "      <td>1.0</td>\n",
       "      <td>2009</td>\n",
       "      <td>6</td>\n",
       "      <td>15</td>\n",
       "      <td>13</td>\n",
       "      <td>26</td>\n",
       "      <td>0.009436</td>\n",
       "    </tr>\n",
       "    <tr>\n",
       "      <th>1</th>\n",
       "      <td>1.0</td>\n",
       "      <td>1.0</td>\n",
       "      <td>2010</td>\n",
       "      <td>1</td>\n",
       "      <td>5</td>\n",
       "      <td>12</td>\n",
       "      <td>52</td>\n",
       "      <td>0.077990</td>\n",
       "    </tr>\n",
       "    <tr>\n",
       "      <th>2</th>\n",
       "      <td>2.0</td>\n",
       "      <td>2.0</td>\n",
       "      <td>2011</td>\n",
       "      <td>8</td>\n",
       "      <td>17</td>\n",
       "      <td>20</td>\n",
       "      <td>35</td>\n",
       "      <td>0.013674</td>\n",
       "    </tr>\n",
       "    <tr>\n",
       "      <th>3</th>\n",
       "      <td>1.0</td>\n",
       "      <td>1.0</td>\n",
       "      <td>2012</td>\n",
       "      <td>4</td>\n",
       "      <td>21</td>\n",
       "      <td>0</td>\n",
       "      <td>30</td>\n",
       "      <td>0.025340</td>\n",
       "    </tr>\n",
       "    <tr>\n",
       "      <th>4</th>\n",
       "      <td>1.0</td>\n",
       "      <td>1.0</td>\n",
       "      <td>2010</td>\n",
       "      <td>3</td>\n",
       "      <td>9</td>\n",
       "      <td>3</td>\n",
       "      <td>51</td>\n",
       "      <td>0.019470</td>\n",
       "    </tr>\n",
       "  </tbody>\n",
       "</table>\n",
       "</div>"
      ],
      "text/plain": [
       "   amount  no_of_passenger  Year  Month  Day  Hours  Minutes  Distance\n",
       "0     1.0              1.0  2009      6   15     13       26  0.009436\n",
       "1     1.0              1.0  2010      1    5     12       52  0.077990\n",
       "2     2.0              2.0  2011      8   17     20       35  0.013674\n",
       "3     1.0              1.0  2012      4   21      0       30  0.025340\n",
       "4     1.0              1.0  2010      3    9      3       51  0.019470"
      ]
     },
     "execution_count": 64,
     "metadata": {},
     "output_type": "execute_result"
    }
   ],
   "source": [
    "df.head()"
   ]
  },
  {
   "cell_type": "code",
   "execution_count": 65,
   "id": "4a448d19",
   "metadata": {},
   "outputs": [
    {
     "data": {
      "text/html": [
       "<div>\n",
       "<style scoped>\n",
       "    .dataframe tbody tr th:only-of-type {\n",
       "        vertical-align: middle;\n",
       "    }\n",
       "\n",
       "    .dataframe tbody tr th {\n",
       "        vertical-align: top;\n",
       "    }\n",
       "\n",
       "    .dataframe thead th {\n",
       "        text-align: right;\n",
       "    }\n",
       "</style>\n",
       "<table border=\"1\" class=\"dataframe\">\n",
       "  <thead>\n",
       "    <tr style=\"text-align: right;\">\n",
       "      <th></th>\n",
       "      <th>amount</th>\n",
       "      <th>no_of_passenger</th>\n",
       "      <th>Year</th>\n",
       "      <th>Month</th>\n",
       "      <th>Day</th>\n",
       "      <th>Hours</th>\n",
       "      <th>Minutes</th>\n",
       "      <th>Distance</th>\n",
       "    </tr>\n",
       "  </thead>\n",
       "  <tbody>\n",
       "    <tr>\n",
       "      <th>0</th>\n",
       "      <td>1.0</td>\n",
       "      <td>1.0</td>\n",
       "      <td>2009</td>\n",
       "      <td>6</td>\n",
       "      <td>15</td>\n",
       "      <td>13</td>\n",
       "      <td>26</td>\n",
       "      <td>0.009436</td>\n",
       "    </tr>\n",
       "    <tr>\n",
       "      <th>1</th>\n",
       "      <td>1.0</td>\n",
       "      <td>1.0</td>\n",
       "      <td>2010</td>\n",
       "      <td>1</td>\n",
       "      <td>5</td>\n",
       "      <td>12</td>\n",
       "      <td>52</td>\n",
       "      <td>0.077990</td>\n",
       "    </tr>\n",
       "    <tr>\n",
       "      <th>2</th>\n",
       "      <td>2.0</td>\n",
       "      <td>2.0</td>\n",
       "      <td>2011</td>\n",
       "      <td>8</td>\n",
       "      <td>17</td>\n",
       "      <td>20</td>\n",
       "      <td>35</td>\n",
       "      <td>0.013674</td>\n",
       "    </tr>\n",
       "    <tr>\n",
       "      <th>3</th>\n",
       "      <td>1.0</td>\n",
       "      <td>1.0</td>\n",
       "      <td>2012</td>\n",
       "      <td>4</td>\n",
       "      <td>21</td>\n",
       "      <td>0</td>\n",
       "      <td>30</td>\n",
       "      <td>0.025340</td>\n",
       "    </tr>\n",
       "    <tr>\n",
       "      <th>4</th>\n",
       "      <td>1.0</td>\n",
       "      <td>1.0</td>\n",
       "      <td>2010</td>\n",
       "      <td>3</td>\n",
       "      <td>9</td>\n",
       "      <td>3</td>\n",
       "      <td>51</td>\n",
       "      <td>0.019470</td>\n",
       "    </tr>\n",
       "  </tbody>\n",
       "</table>\n",
       "</div>"
      ],
      "text/plain": [
       "   amount  no_of_passenger  Year  Month  Day  Hours  Minutes  Distance\n",
       "0     1.0              1.0  2009      6   15     13       26  0.009436\n",
       "1     1.0              1.0  2010      1    5     12       52  0.077990\n",
       "2     2.0              2.0  2011      8   17     20       35  0.013674\n",
       "3     1.0              1.0  2012      4   21      0       30  0.025340\n",
       "4     1.0              1.0  2010      3    9      3       51  0.019470"
      ]
     },
     "execution_count": 65,
     "metadata": {},
     "output_type": "execute_result"
    }
   ],
   "source": [
    "df.head()"
   ]
  },
  {
   "cell_type": "code",
   "execution_count": 66,
   "id": "9f73b605",
   "metadata": {},
   "outputs": [
    {
     "data": {
      "text/plain": [
       "<matplotlib.collections.PathCollection at 0x1d9f89174c0>"
      ]
     },
     "execution_count": 66,
     "metadata": {},
     "output_type": "execute_result"
    },
    {
     "data": {
      "image/png": "[encoded data removed]",
      "text/plain": [
       "<Figure size 432x288 with 1 Axes>"
      ]
     },
     "metadata": {
      "needs_background": "light"
     },
     "output_type": "display_data"
    }
   ],
   "source": [
    "plt.scatter(df.Distance,df.amount,color=\"green\")"
   ]
  },
  {
   "cell_type": "code",
   "execution_count": 67,
   "id": "f31b64a6",
   "metadata": {},
   "outputs": [
    {
     "name": "stderr",
     "output_type": "stream",
     "text": [
      "C:\\Users\\rupes\\anaconda3\\lib\\site-packages\\seaborn\\_decorators.py:36: FutureWarning: Pass the following variables as keyword args: x, y. From version 0.12, the only valid positional argument will be `data`, and passing other arguments without an explicit keyword will result in an error or misinterpretation.\n",
      "  warnings.warn(\n"
     ]
    },
    {
     "data": {
      "text/plain": [
       "<AxesSubplot:xlabel='Distance', ylabel='amount'>"
      ]
     },
     "execution_count": 67,
     "metadata": {},
     "output_type": "execute_result"
    },
    {
     "data": {
      "image/png": "[encoded data removed]",
      "text/plain": [
       "<Figure size 432x288 with 1 Axes>"
      ]
     },
     "metadata": {
      "needs_background": "light"
     },
     "output_type": "display_data"
    }
   ],
   "source": [
    "sns.scatterplot(df[\"Distance\"],df[\"amount\"])"
   ]
  },
  {
   "cell_type": "code",
   "execution_count": 68,
   "id": "f78739e7",
   "metadata": {},
   "outputs": [
    {
     "data": {
      "text/plain": [
       "(array([2134., 4107., 4637., 7302., 4823., 4535., 9053., 5624., 4356.,\n",
       "        3419.]),\n",
       " array([ 0. ,  2.3,  4.6,  6.9,  9.2, 11.5, 13.8, 16.1, 18.4, 20.7, 23. ]),\n",
       " <BarContainer object of 10 artists>)"
      ]
     },
     "execution_count": 68,
     "metadata": {},
     "output_type": "execute_result"
    },
    {
     "data": {
      "image/png": "[encoded data removed]",
      "text/plain": [
       "<Figure size 432x288 with 1 Axes>"
      ]
     },
     "metadata": {
      "needs_background": "light"
     },
     "output_type": "display_data"
    }
   ],
   "source": [
    "plt.hist(df[\"Hours\"])"
   ]
  },
  {
   "cell_type": "code",
   "execution_count": 69,
   "id": "0701fc15",
   "metadata": {},
   "outputs": [
    {
     "data": {
      "text/plain": [
       "(array([4673., 4809., 5102., 5041., 5131., 5130., 5038., 4981., 4664.,\n",
       "        5421.]),\n",
       " array([ 1.,  4.,  7., 10., 13., 16., 19., 22., 25., 28., 31.]),\n",
       " <BarContainer object of 10 artists>)"
      ]
     },
     "execution_count": 69,
     "metadata": {},
     "output_type": "execute_result"
    },
    {
     "data": {
      "image/png": "[encoded data removed]",
      "text/plain": [
       "<Figure size 432x288 with 1 Axes>"
      ]
     },
     "metadata": {
      "needs_background": "light"
     },
     "output_type": "display_data"
    }
   ],
   "source": [
    "plt.hist(df[\"Day\"])"
   ]
  },
  {
   "cell_type": "code",
   "execution_count": null,
   "id": "843b3cac",
   "metadata": {},
   "outputs": [],
   "source": []
  },
  {
   "cell_type": "code",
   "execution_count": 70,
   "id": "bd19c906",
   "metadata": {},
   "outputs": [],
   "source": [
    "x=df.drop(['amount'],axis=1)\n",
    "y=df[['amount']]"
   ]
  },
  {
   "cell_type": "code",
   "execution_count": 71,
   "id": "ee52e772",
   "metadata": {},
   "outputs": [],
   "source": [
    "x_train,x_test,y_train,y_test=train_test_split(x,y,test_size=0.16,random_state=2)"
   ]
  },
  {
   "cell_type": "code",
   "execution_count": 72,
   "id": "0515ba61",
   "metadata": {},
   "outputs": [],
   "source": [
    "reg=LinearRegression()"
   ]
  },
  {
   "cell_type": "code",
   "execution_count": 73,
   "id": "f162a4f4",
   "metadata": {},
   "outputs": [
    {
     "data": {
      "text/plain": [
       "LinearRegression()"
      ]
     },
     "execution_count": 73,
     "metadata": {},
     "output_type": "execute_result"
    }
   ],
   "source": [
    "reg.fit(x_train,y_train)"
   ]
  },
  {
   "cell_type": "code",
   "execution_count": 74,
   "id": "c54df0ce",
   "metadata": {},
   "outputs": [
    {
     "data": {
      "text/plain": [
       "1.0"
      ]
     },
     "execution_count": 74,
     "metadata": {},
     "output_type": "execute_result"
    }
   ],
   "source": [
    "reg.score(x_train,y_train)"
   ]
  },
  {
   "cell_type": "code",
   "execution_count": 75,
   "id": "c343c76a",
   "metadata": {},
   "outputs": [
    {
     "data": {
      "text/plain": [
       "1.0"
      ]
     },
     "execution_count": 75,
     "metadata": {},
     "output_type": "execute_result"
    }
   ],
   "source": [
    "reg.score(x_test,y_test)"
   ]
  },
  {
   "cell_type": "code",
   "execution_count": 76,
   "id": "68b3ac31",
   "metadata": {},
   "outputs": [],
   "source": [
    "from sklearn.neighbors import KNeighborsRegressor"
   ]
  },
  {
   "cell_type": "code",
   "execution_count": 77,
   "id": "38e7e901",
   "metadata": {},
   "outputs": [],
   "source": [
    "NNH=KNeighborsRegressor(n_neighbors=11)"
   ]
  },
  {
   "cell_type": "code",
   "execution_count": 78,
   "id": "96efd885",
   "metadata": {},
   "outputs": [
    {
     "data": {
      "text/plain": [
       "KNeighborsRegressor(n_neighbors=11)"
      ]
     },
     "execution_count": 78,
     "metadata": {},
     "output_type": "execute_result"
    }
   ],
   "source": [
    "NNH.fit(x_train,y_train)"
   ]
  },
  {
   "cell_type": "code",
   "execution_count": 79,
   "id": "55d9b274",
   "metadata": {},
   "outputs": [
    {
     "data": {
      "text/plain": [
       "0.6130008673411648"
      ]
     },
     "execution_count": 79,
     "metadata": {},
     "output_type": "execute_result"
    }
   ],
   "source": [
    "NNH.score(x_train,y_train)"
   ]
  },
  {
   "cell_type": "code",
   "execution_count": 80,
   "id": "4c4b467d",
   "metadata": {},
   "outputs": [
    {
     "data": {
      "text/plain": [
       "0.5081625576880916"
      ]
     },
     "execution_count": 80,
     "metadata": {},
     "output_type": "execute_result"
    }
   ],
   "source": [
    "NNH.score(x_test,y_test)"
   ]
  },
  {
   "cell_type": "code",
   "execution_count": null,
   "id": "b8b78508",
   "metadata": {},
   "outputs": [],
   "source": []
  }
 ],
 "metadata": {
  "kernelspec": {
   "display_name": "Python 3 (ipykernel)",
   "language": "python",
   "name": "python3"
  },
  "language_info": {
   "codemirror_mode": {
    "name": "ipython",
    "version": 3
   },
   "file_extension": ".py",
   "mimetype": "text/x-python",
   "name": "python",
   "nbconvert_exporter": "python",
   "pygments_lexer": "ipython3",
   "version": "3.9.7"
  }
 },
 "nbformat": 4,
 "nbformat_minor": 5
}
